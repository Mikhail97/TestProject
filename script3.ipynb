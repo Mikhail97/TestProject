{
 "cells": [
  {
   "cell_type": "code",
   "execution_count": 25,
   "metadata": {},
   "outputs": [
    {
     "data": {
      "text/plain": [
       "False"
      ]
     },
     "execution_count": 25,
     "metadata": {},
     "output_type": "execute_result"
    }
   ],
   "source": [
    "#1. Напишите функцию, которая определяет попадает ли число в заданный диапазон.\n",
    "def check_range(start: int, end: int, num : int) -> bool:\n",
    "    if num in range(start, end+1): #проверяем есть ли число в диапазоне\n",
    "        return True\n",
    "    else:\n",
    "        return False\n",
    "check_range(0, 10, -4)"
   ]
  },
  {
   "cell_type": "code",
   "execution_count": 46,
   "metadata": {},
   "outputs": [
    {
     "data": {
      "text/plain": [
       "False"
      ]
     },
     "execution_count": 46,
     "metadata": {},
     "output_type": "execute_result"
    }
   ],
   "source": [
    "#2. Напишите функцию, которая определяет является ли число совершенным или нет.\n",
    "def is_perfect(n: int) -> bool:\n",
    "    if n <= 0:             # проверяем является ли число натуральным\n",
    "        print('Число {} не является натуральным'.format(n))\n",
    "        return False\n",
    "    sum_div = 0\n",
    "    for i in range(1, n): #перебераем в цикле число от 1 до n\n",
    "        if n % i == 0:    #если остаток от деления числа n на текущее значение i равен 0, то i это делитель \n",
    "            sum_div += i\n",
    "    if sum_div == n:      #Если сумма делителей равна исходному числу n, то возвращаем True иначе False\n",
    "        return True  \n",
    "    else:\n",
    "        return False\n",
    "\n",
    "is_perfect(2)\n",
    "#1+2+4+7+14 = 28\n",
    "#1+2+3 = 6"
   ]
  },
  {
   "cell_type": "code",
   "execution_count": 53,
   "metadata": {},
   "outputs": [
    {
     "name": "stdout",
     "output_type": "stream",
     "text": [
      "[1, 4, 9, 16, 25, 36, 49, 64, 81, 100, 121, 144, 169, 196, 225, 256, 289, 324, 361, 400, 441, 484, 529, 576, 625, 676, 729, 784, 841, 900, 961, 1024, 1089, 1156, 1225, 1296, 1369, 1444, 1521, 1600, 1681, 1764, 1849, 1936, 2025, 2116, 2209, 2304, 2401, 2500]\n"
     ]
    }
   ],
   "source": [
    "#3. Напишите функцию Python для создания и вывода списка, в котором значения являются квадратами чисел от 1 до 50\n",
    "def square_1_50():\n",
    "    square_1_50 = [i**2 for i in range(1, 51)]  #генерируем последовательность от 1 до 50 и каждое значение возводим в кв. Генератор\n",
    "                                                #вернет список square_1_50\n",
    "    return square_1_50\n",
    "\n",
    "print(square_1_50())"
   ]
  },
  {
   "cell_type": "code",
   "execution_count": 82,
   "metadata": {},
   "outputs": [
    {
     "name": "stdout",
     "output_type": "stream",
     "text": [
      "dict_items([(1, 5), (2, 4), (5, 1), (6, 1), (7, 1), (8, 2)])\n"
     ]
    }
   ],
   "source": [
    "#Напишите функцию для создания словаря с уникальными значениями заданного списка в качестве ключей и их частотами в качестве значений.\n",
    "from collections import defaultdict\n",
    "\n",
    "def dict_freq(list_freq: list):\n",
    "    d = defaultdict(int) #объявляем словарь\n",
    "    for i in list_freq:  #перебераем список \n",
    "        d[i] = d[i] + 1  #если в словаре нет ключа, то 0 + 1, если есть , то значение ключа + 1\n",
    "    print(d.items())     #возвращаем словарь\n",
    "\n",
    "dict_freq([1,1,1,2,5,6,2,1,2,7,8,8,2,1])"
   ]
  },
  {
   "cell_type": "code",
   "execution_count": 74,
   "metadata": {},
   "outputs": [
    {
     "data": {
      "text/plain": [
       "0"
      ]
     },
     "execution_count": 74,
     "metadata": {},
     "output_type": "execute_result"
    }
   ],
   "source": [
    "d = defaultdict(int)\n",
    "d[1]"
   ]
  }
 ],
 "metadata": {
  "kernelspec": {
   "display_name": "Python 3.10.4 ('pythonProject')",
   "language": "python",
   "name": "python3"
  },
  "language_info": {
   "codemirror_mode": {
    "name": "ipython",
    "version": 3
   },
   "file_extension": ".py",
   "mimetype": "text/x-python",
   "name": "python",
   "nbconvert_exporter": "python",
   "pygments_lexer": "ipython3",
   "version": "3.10.4"
  },
  "orig_nbformat": 4,
  "vscode": {
   "interpreter": {
    "hash": "a04b0e96a39001dcde3ef110d9aab7edc50a87692e5c15032a80ed4296751e1d"
   }
  }
 },
 "nbformat": 4,
 "nbformat_minor": 2
}
