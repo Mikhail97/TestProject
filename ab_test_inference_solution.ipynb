{
 "cells": [
  {
   "cell_type": "markdown",
   "metadata": {
    "collapsed": true,
    "pycharm": {
     "name": "#%%\n"
    }
   },
   "source": [
    "#1. Дизайн эксперимента"
   ]
  },
  {
   "cell_type": "markdown",
   "metadata": {},
   "source": [
    "Суть состоит в том, чтобы проверить гипотезы H0 и H.\n",
    "H0 это когда p=p0 (коэффициенты конверсии старого и нового сайта равны).\n",
    "H1  p != p0       (коэффициенты конверсии старого и нового сайта не равны).\n",
    "Выбираем уровень доверия 95%. Необхожимо рассчитать показать alpha, который будет равен 1-0.95 = 0.05\n"
   ]
  },
  {
   "cell_type": "code",
   "execution_count": 3,
   "metadata": {},
   "outputs": [
    {
     "name": "stdout",
     "output_type": "stream",
     "text": [
      "Requirement already satisfied: numpy in /home/mikhail/anaconda3/envs/pythonProject/lib/python3.10/site-packages (1.22.3)\n",
      "Requirement already satisfied: pandas in /home/mikhail/anaconda3/envs/pythonProject/lib/python3.10/site-packages (1.4.2)\n",
      "Requirement already satisfied: scipy in /home/mikhail/anaconda3/envs/pythonProject/lib/python3.10/site-packages (1.8.1)\n",
      "Requirement already satisfied: statsmodels in /home/mikhail/anaconda3/envs/pythonProject/lib/python3.10/site-packages (0.13.2)\n",
      "Requirement already satisfied: matplotlib in /home/mikhail/anaconda3/envs/pythonProject/lib/python3.10/site-packages (3.5.2)\n",
      "Requirement already satisfied: seaborn in /home/mikhail/anaconda3/envs/pythonProject/lib/python3.10/site-packages (0.11.2)\n",
      "Requirement already satisfied: python-dateutil>=2.8.1 in /home/mikhail/anaconda3/envs/pythonProject/lib/python3.10/site-packages (from pandas) (2.8.2)\n",
      "Requirement already satisfied: pytz>=2020.1 in /home/mikhail/anaconda3/envs/pythonProject/lib/python3.10/site-packages (from pandas) (2022.1)\n",
      "Requirement already satisfied: patsy>=0.5.2 in /home/mikhail/anaconda3/envs/pythonProject/lib/python3.10/site-packages (from statsmodels) (0.5.2)\n",
      "Requirement already satisfied: packaging>=21.3 in /home/mikhail/anaconda3/envs/pythonProject/lib/python3.10/site-packages (from statsmodels) (21.3)\n",
      "Requirement already satisfied: kiwisolver>=1.0.1 in /home/mikhail/anaconda3/envs/pythonProject/lib/python3.10/site-packages (from matplotlib) (1.4.3)\n",
      "Requirement already satisfied: pillow>=6.2.0 in /home/mikhail/anaconda3/envs/pythonProject/lib/python3.10/site-packages (from matplotlib) (9.1.1)\n",
      "Requirement already satisfied: pyparsing>=2.2.1 in /home/mikhail/anaconda3/envs/pythonProject/lib/python3.10/site-packages (from matplotlib) (3.0.4)\n",
      "Requirement already satisfied: cycler>=0.10 in /home/mikhail/anaconda3/envs/pythonProject/lib/python3.10/site-packages (from matplotlib) (0.11.0)\n",
      "Requirement already satisfied: fonttools>=4.22.0 in /home/mikhail/anaconda3/envs/pythonProject/lib/python3.10/site-packages (from matplotlib) (4.33.3)\n",
      "Requirement already satisfied: six in /home/mikhail/anaconda3/envs/pythonProject/lib/python3.10/site-packages (from patsy>=0.5.2->statsmodels) (1.16.0)\n"
     ]
    }
   ],
   "source": [
    "#устанавливаем необходимые библиотеки\n",
    "! pip install numpy pandas scipy statsmodels matplotlib seaborn"
   ]
  },
  {
   "cell_type": "code",
   "execution_count": 68,
   "metadata": {},
   "outputs": [],
   "source": [
    "# Импортируем библиотеки\n",
    "import numpy as np\n",
    "import pandas as pd\n",
    "import scipy.stats as stats\n",
    "import statsmodels.stats.api as sms\n",
    "import matplotlib as mpl\n",
    "import matplotlib.pyplot as plt\n",
    "import seaborn as sns\n",
    "from math import ceil\n",
    "\n",
    "# Настройки отображения графиков\n",
    "%matplotlib inline\n",
    "# Стили графиков -> обращайтесь в документацию по seaborn https://seaborn.pydata.org/generated/seaborn.set_style.html\n",
    "plt.style.use('seaborn-whitegrid')\n",
    "font = {'family' : 'Helvetica',\n",
    "        'weight' : 'bold',\n",
    "        'size'   : 14}\n",
    "mpl.rc('font', **font)"
   ]
  },
  {
   "cell_type": "code",
   "execution_count": 69,
   "metadata": {},
   "outputs": [
    {
     "data": {
      "text/html": [
       "<div>\n",
       "<style scoped>\n",
       "    .dataframe tbody tr th:only-of-type {\n",
       "        vertical-align: middle;\n",
       "    }\n",
       "\n",
       "    .dataframe tbody tr th {\n",
       "        vertical-align: top;\n",
       "    }\n",
       "\n",
       "    .dataframe thead th {\n",
       "        text-align: right;\n",
       "    }\n",
       "</style>\n",
       "<table border=\"1\" class=\"dataframe\">\n",
       "  <thead>\n",
       "    <tr style=\"text-align: right;\">\n",
       "      <th></th>\n",
       "      <th>user_id</th>\n",
       "      <th>timestamp</th>\n",
       "      <th>group</th>\n",
       "      <th>variants</th>\n",
       "      <th>converted</th>\n",
       "      <th>location</th>\n",
       "      <th>age_group</th>\n",
       "      <th>user_type</th>\n",
       "    </tr>\n",
       "  </thead>\n",
       "  <tbody>\n",
       "    <tr>\n",
       "      <th>0</th>\n",
       "      <td>9109b0dc-d393-497f-8d63-ba9a25dd16b4</td>\n",
       "      <td>2022-05-21 22:11:48.556739</td>\n",
       "      <td>control</td>\n",
       "      <td>standard</td>\n",
       "      <td>0</td>\n",
       "      <td>United Kingdom</td>\n",
       "      <td>18-25</td>\n",
       "      <td>registered_user</td>\n",
       "    </tr>\n",
       "    <tr>\n",
       "      <th>1</th>\n",
       "      <td>2430c3d2-f75b-4b31-8271-51b6a76c2652</td>\n",
       "      <td>2022-05-12 08:01:45.159739</td>\n",
       "      <td>control</td>\n",
       "      <td>standard</td>\n",
       "      <td>0</td>\n",
       "      <td>United Kingdom</td>\n",
       "      <td>42-49</td>\n",
       "      <td>registered_user</td>\n",
       "    </tr>\n",
       "    <tr>\n",
       "      <th>2</th>\n",
       "      <td>44788c4e-8dd2-4fad-b986-75e76f4adb64</td>\n",
       "      <td>2022-05-11 16:55:06.154213</td>\n",
       "      <td>treatment</td>\n",
       "      <td>svm_ensemble_v_1_22</td>\n",
       "      <td>0</td>\n",
       "      <td>United Kingdom</td>\n",
       "      <td>26-33</td>\n",
       "      <td>new_user</td>\n",
       "    </tr>\n",
       "    <tr>\n",
       "      <th>3</th>\n",
       "      <td>4699a417-506d-41b8-a354-6af6ad576963</td>\n",
       "      <td>2022-05-08 18:28:03.143765</td>\n",
       "      <td>treatment</td>\n",
       "      <td>svm_ensemble_v_1_22</td>\n",
       "      <td>0</td>\n",
       "      <td>United Kingdom</td>\n",
       "      <td>42-49</td>\n",
       "      <td>registered_user</td>\n",
       "    </tr>\n",
       "    <tr>\n",
       "      <th>4</th>\n",
       "      <td>304b0d28-bcdf-401a-9dff-66230d3ba0bc</td>\n",
       "      <td>2022-05-21 01:52:26.210827</td>\n",
       "      <td>control</td>\n",
       "      <td>standard</td>\n",
       "      <td>1</td>\n",
       "      <td>United Kingdom</td>\n",
       "      <td>42-49</td>\n",
       "      <td>registered_user</td>\n",
       "    </tr>\n",
       "    <tr>\n",
       "      <th>5</th>\n",
       "      <td>426f77eb-8739-43b6-999c-aecd14d9f346</td>\n",
       "      <td>2022-05-10 15:20:49.083499</td>\n",
       "      <td>control</td>\n",
       "      <td>standard</td>\n",
       "      <td>0</td>\n",
       "      <td>United Kingdom</td>\n",
       "      <td>42-49</td>\n",
       "      <td>registered_user</td>\n",
       "    </tr>\n",
       "    <tr>\n",
       "      <th>6</th>\n",
       "      <td>aa9d93c5-a18f-444a-a522-7e7145835362</td>\n",
       "      <td>2022-05-19 03:26:46.940749</td>\n",
       "      <td>treatment</td>\n",
       "      <td>svm_ensemble_v_1_22</td>\n",
       "      <td>1</td>\n",
       "      <td>United Kingdom</td>\n",
       "      <td>26-33</td>\n",
       "      <td>registered_user</td>\n",
       "    </tr>\n",
       "    <tr>\n",
       "      <th>7</th>\n",
       "      <td>de214e30-9b8d-44cf-87b1-16917f3e1c89</td>\n",
       "      <td>2022-05-17 01:48:29.539573</td>\n",
       "      <td>control</td>\n",
       "      <td>standard</td>\n",
       "      <td>0</td>\n",
       "      <td>United Kingdom</td>\n",
       "      <td>18-25</td>\n",
       "      <td>registered_user</td>\n",
       "    </tr>\n",
       "    <tr>\n",
       "      <th>8</th>\n",
       "      <td>070f398e-e6bf-43e7-88bb-37eff2cb9212</td>\n",
       "      <td>2022-05-04 17:58:08.979471</td>\n",
       "      <td>treatment</td>\n",
       "      <td>svm_ensemble_v_1_22</td>\n",
       "      <td>1</td>\n",
       "      <td>United Kingdom</td>\n",
       "      <td>18-25</td>\n",
       "      <td>new_user</td>\n",
       "    </tr>\n",
       "    <tr>\n",
       "      <th>9</th>\n",
       "      <td>9cff0b7e-d42b-4508-9fbe-a4e74f7f29c5</td>\n",
       "      <td>2022-05-15 18:11:06.610965</td>\n",
       "      <td>treatment</td>\n",
       "      <td>svm_ensemble_v_1_22</td>\n",
       "      <td>1</td>\n",
       "      <td>United Kingdom</td>\n",
       "      <td>26-33</td>\n",
       "      <td>new_user</td>\n",
       "    </tr>\n",
       "  </tbody>\n",
       "</table>\n",
       "</div>"
      ],
      "text/plain": [
       "                                user_id                   timestamp  \\\n",
       "0  9109b0dc-d393-497f-8d63-ba9a25dd16b4  2022-05-21 22:11:48.556739   \n",
       "1  2430c3d2-f75b-4b31-8271-51b6a76c2652  2022-05-12 08:01:45.159739   \n",
       "2  44788c4e-8dd2-4fad-b986-75e76f4adb64  2022-05-11 16:55:06.154213   \n",
       "3  4699a417-506d-41b8-a354-6af6ad576963  2022-05-08 18:28:03.143765   \n",
       "4  304b0d28-bcdf-401a-9dff-66230d3ba0bc  2022-05-21 01:52:26.210827   \n",
       "5  426f77eb-8739-43b6-999c-aecd14d9f346  2022-05-10 15:20:49.083499   \n",
       "6  aa9d93c5-a18f-444a-a522-7e7145835362  2022-05-19 03:26:46.940749   \n",
       "7  de214e30-9b8d-44cf-87b1-16917f3e1c89  2022-05-17 01:48:29.539573   \n",
       "8  070f398e-e6bf-43e7-88bb-37eff2cb9212  2022-05-04 17:58:08.979471   \n",
       "9  9cff0b7e-d42b-4508-9fbe-a4e74f7f29c5  2022-05-15 18:11:06.610965   \n",
       "\n",
       "       group             variants  converted        location age_group  \\\n",
       "0    control             standard          0  United Kingdom     18-25   \n",
       "1    control             standard          0  United Kingdom     42-49   \n",
       "2  treatment  svm_ensemble_v_1_22          0  United Kingdom     26-33   \n",
       "3  treatment  svm_ensemble_v_1_22          0  United Kingdom     42-49   \n",
       "4    control             standard          1  United Kingdom     42-49   \n",
       "5    control             standard          0  United Kingdom     42-49   \n",
       "6  treatment  svm_ensemble_v_1_22          1  United Kingdom     26-33   \n",
       "7    control             standard          0  United Kingdom     18-25   \n",
       "8  treatment  svm_ensemble_v_1_22          1  United Kingdom     18-25   \n",
       "9  treatment  svm_ensemble_v_1_22          1  United Kingdom     26-33   \n",
       "\n",
       "         user_type  \n",
       "0  registered_user  \n",
       "1  registered_user  \n",
       "2         new_user  \n",
       "3  registered_user  \n",
       "4  registered_user  \n",
       "5  registered_user  \n",
       "6  registered_user  \n",
       "7  registered_user  \n",
       "8         new_user  \n",
       "9         new_user  "
      ]
     },
     "execution_count": 69,
     "metadata": {},
     "output_type": "execute_result"
    }
   ],
   "source": [
    "df = pd.read_csv('/home/mikhail/it-academy/модуль 2/Практическая часть/ab_test_inference/ab_test_ensembles.csv')\n",
    "df.head(10)"
   ]
  },
  {
   "cell_type": "code",
   "execution_count": 70,
   "metadata": {},
   "outputs": [
    {
     "name": "stdout",
     "output_type": "stream",
     "text": [
      "<class 'pandas.core.frame.DataFrame'>\n",
      "RangeIndex: 294478 entries, 0 to 294477\n",
      "Data columns (total 8 columns):\n",
      " #   Column     Non-Null Count   Dtype \n",
      "---  ------     --------------   ----- \n",
      " 0   user_id    294478 non-null  object\n",
      " 1   timestamp  294478 non-null  object\n",
      " 2   group      294478 non-null  object\n",
      " 3   variants   294478 non-null  object\n",
      " 4   converted  294478 non-null  int64 \n",
      " 5   location   294478 non-null  object\n",
      " 6   age_group  294478 non-null  object\n",
      " 7   user_type  294478 non-null  object\n",
      "dtypes: int64(1), object(7)\n",
      "memory usage: 18.0+ MB\n"
     ]
    }
   ],
   "source": [
    "df.info()"
   ]
  },
  {
   "cell_type": "code",
   "execution_count": 71,
   "metadata": {},
   "outputs": [
    {
     "name": "stdout",
     "output_type": "stream",
     "text": [
      "variants   standard  svm_ensemble_v_1_22\n",
      "group                                   \n",
      "control      145274                 1928\n",
      "treatment      1965               145311\n",
      "Видно, что часть из контрольной группы видят новую страницу сайта, а часть из эксперементальной группы видят старую\n"
     ]
    }
   ],
   "source": [
    "#1. Контрольная (Control) группа - та группа пользователей, которым будет показываться старая версия сайта.\n",
    "#2. Экспериментальная (Treatment) группа - та группа пользователей, которым будет показываться новая версия сайта.\n",
    "# Убедимся, что контрольная группа и испытуемая видят старую страницу(standard) и новую (svm_ensemble_v_1_22)\n",
    "print(pd.crosstab(df['group'], df['variants']))\n",
    "print('Видно, что часть из контрольной группы видят новую страницу сайта, а часть из эксперементальной группы видят старую')"
   ]
  },
  {
   "cell_type": "code",
   "execution_count": 72,
   "metadata": {},
   "outputs": [
    {
     "name": "stdout",
     "output_type": "stream",
     "text": [
      "У нас имеются 0 пользователей, которые не уникальны в нашей выборке.\n"
     ]
    }
   ],
   "source": [
    "#Проверим, есть ли повторяющиеся записи в user_id\n",
    "sessions = df['user_id'].value_counts(ascending=False)\n",
    "duplicate_users = sessions[sessions > 1].count()\n",
    "print(f\"У нас имеются {duplicate_users} пользователей, которые не уникальны в нашей выборке.\")"
   ]
  },
  {
   "cell_type": "code",
   "execution_count": 73,
   "metadata": {},
   "outputs": [],
   "source": [
    "#используем всю выборку по условию задачи.\n",
    "control_sample = df[(df['group'] == 'control') & (df['variants'] == 'standard')] #.sample(n = required_n, random_state=42)\n",
    "treatment_sample = df[(df['group'] == 'treatment') & (df['variants'] == 'svm_ensemble_v_1_22') ] #.sample(n = required_n, random_state=42)\n",
    "control_sample.shape #посмотрим скока строк\n",
    "treatment_sample.shape #посмотрим скока строк\n",
    "# Сформируем общую выборку\n",
    "ab_df = pd.concat([control_sample, treatment_sample], axis=0)\n",
    "ab_df.reset_index(drop=True, inplace=True)\n",
    "\n"
   ]
  },
  {
   "cell_type": "code",
   "execution_count": 74,
   "metadata": {},
   "outputs": [
    {
     "name": "stdout",
     "output_type": "stream",
     "text": [
      "<class 'pandas.core.frame.DataFrame'>\n",
      "RangeIndex: 290585 entries, 0 to 290584\n",
      "Data columns (total 8 columns):\n",
      " #   Column     Non-Null Count   Dtype \n",
      "---  ------     --------------   ----- \n",
      " 0   user_id    290585 non-null  object\n",
      " 1   timestamp  290585 non-null  object\n",
      " 2   group      290585 non-null  object\n",
      " 3   variants   290585 non-null  object\n",
      " 4   converted  290585 non-null  int64 \n",
      " 5   location   290585 non-null  object\n",
      " 6   age_group  290585 non-null  object\n",
      " 7   user_type  290585 non-null  object\n",
      "dtypes: int64(1), object(7)\n",
      "memory usage: 17.7+ MB\n"
     ]
    }
   ],
   "source": [
    "ab_df.info()"
   ]
  },
  {
   "cell_type": "code",
   "execution_count": 75,
   "metadata": {},
   "outputs": [
    {
     "name": "stdout",
     "output_type": "stream",
     "text": [
      "treatment    0.500064\n",
      "control      0.499936\n",
      "Name: group, dtype: float64\n",
      "Разделение пользователь на контрольную и экспериментальную группы неравномерно, так как по условию задачи используем весь набор данных\n"
     ]
    }
   ],
   "source": [
    "print(ab_df.group.value_counts(normalize=True))\n",
    "print('Разделение пользователь на контрольную и экспериментальную группы неравномерно, так как по условию задачи используем весь набор данных')"
   ]
  },
  {
   "cell_type": "code",
   "execution_count": 76,
   "metadata": {},
   "outputs": [
    {
     "data": {
      "text/html": [
       "<div>\n",
       "<style scoped>\n",
       "    .dataframe tbody tr th:only-of-type {\n",
       "        vertical-align: middle;\n",
       "    }\n",
       "\n",
       "    .dataframe tbody tr th {\n",
       "        vertical-align: top;\n",
       "    }\n",
       "\n",
       "    .dataframe thead th {\n",
       "        text-align: right;\n",
       "    }\n",
       "</style>\n",
       "<table border=\"1\" class=\"dataframe\">\n",
       "  <thead>\n",
       "    <tr style=\"text-align: right;\">\n",
       "      <th></th>\n",
       "      <th>CR mean</th>\n",
       "      <th>CR std</th>\n",
       "      <th>CR se</th>\n",
       "    </tr>\n",
       "    <tr>\n",
       "      <th>group</th>\n",
       "      <th></th>\n",
       "      <th></th>\n",
       "      <th></th>\n",
       "    </tr>\n",
       "  </thead>\n",
       "  <tbody>\n",
       "    <tr>\n",
       "      <th>control</th>\n",
       "      <td>0.120386</td>\n",
       "      <td>0.325413</td>\n",
       "      <td>0.000854</td>\n",
       "    </tr>\n",
       "    <tr>\n",
       "      <th>treatment</th>\n",
       "      <td>0.118807</td>\n",
       "      <td>0.323562</td>\n",
       "      <td>0.000849</td>\n",
       "    </tr>\n",
       "  </tbody>\n",
       "</table>\n",
       "</div>"
      ],
      "text/plain": [
       "            CR mean    CR std     CR se\n",
       "group                                  \n",
       "control    0.120386  0.325413  0.000854\n",
       "treatment  0.118807  0.323562  0.000849"
      ]
     },
     "execution_count": 76,
     "metadata": {},
     "output_type": "execute_result"
    }
   ],
   "source": [
    "conversion_rates = ab_df.groupby('group')['converted']\n",
    "\n",
    "# Стандартное отклонение для сформированной выборки\n",
    "std_proportion = lambda x: np.std(x, ddof=0)\n",
    "# Стандартная ошибка для сформированной выборки, формулу стандартной ошибки вы знаете из лекций. Забыли - погуглите.\n",
    "se_proportion = lambda x: stats.sem(x, ddof=0)\n",
    "\n",
    "conversion_rates = conversion_rates.agg([np.mean, std_proportion, se_proportion]).rename(columns={'mean':'CR mean', '<lambda_0>':'CR std', '<lambda_1>':'CR se'})\n",
    "conversion_rates\n"
   ]
  },
  {
   "cell_type": "code",
   "execution_count": 77,
   "metadata": {},
   "outputs": [
    {
     "data": {
      "image/png": "[encoded data removed]",
      "text/plain": [
       "<Figure size 576x432 with 1 Axes>"
      ]
     },
     "metadata": {},
     "output_type": "display_data"
    }
   ],
   "source": [
    "plt.figure(figsize=(8,6));\n",
    "sns.barplot(x=ab_df['group'], y=ab_df['converted'], ci=False);\n",
    "plt.ylim(0, 0.17);\n",
    "plt.title('Conversion rate by experimental samples', pad=20)\n",
    "plt.xlabel('Group', labelpad=15);\n",
    "plt.ylabel('Converted (proportion)', labelpad=15);\n"
   ]
  },
  {
   "cell_type": "code",
   "execution_count": 78,
   "metadata": {},
   "outputs": [
    {
     "name": "stdout",
     "output_type": "stream",
     "text": [
      "Z-statistic: 1.31\n",
      "p-value: 0.190\n",
      "CI 95% for control group: [0.119, 0.122]\n",
      "CI 95% for treatment group: [0.117, 0.120]\n"
     ]
    }
   ],
   "source": [
    "from statsmodels.stats.proportion import proportions_ztest, proportion_confint\n",
    "\n",
    "control_results = ab_df[ab_df['group'] == 'control']['converted']\n",
    "treatment_results = ab_df[ab_df['group'] == 'treatment']['converted']\n",
    "\n",
    "n_con = control_results.count() # общее количество пользователей, которые смотрели сайт standard\n",
    "n_treat = treatment_results.count() # общее количество пользователей, которые смотрели сайт svm_ensemble_v_1_22\n",
    "successes = [control_results.sum(), treatment_results.sum()] #это количество успешных испытаний, т.е. сумма 1-ц событий в нашем ab_df для контрольной и экспериментальной групп.\n",
    "nobs = [n_con, n_treat] #nobs - это общее количество испытаний, т.е. Количество строк в ab_df для контрольой и экспериментальной групп.\n",
    "\n",
    "z_stat, pval = proportions_ztest(successes, nobs=nobs)\n",
    "(lower_con, lower_treat), (upper_con, upper_treat) = proportion_confint(successes, nobs=nobs, alpha=0.05)\n",
    "\n",
    "print(f'Z-statistic: {z_stat:.2f}')\n",
    "print(f'p-value: {pval:.3f}')\n",
    "print(f'CI 95% for control group: [{lower_con:.3f}, {upper_con:.3f}]')\n",
    "print(f'CI 95% for treatment group: [{lower_treat:.3f}, {upper_treat:.3f}]')"
   ]
  },
  {
   "cell_type": "code",
   "execution_count": 79,
   "metadata": {},
   "outputs": [],
   "source": [
    "#посчитал среднее доверительного интервала. Необходимо для вывода, чтобы сравнивать доверительные интервалы старого и нового сайта.\n",
    "mean_treat = (lower_treat+upper_treat)*100/2\n",
    "mean_con = (lower_con + upper_con)*100/2"
   ]
  },
  {
   "cell_type": "markdown",
   "metadata": {},
   "source": [
    "Ответ на первый вопрос задания части 2"
   ]
  },
  {
   "cell_type": "code",
   "execution_count": 80,
   "metadata": {},
   "outputs": [
    {
     "name": "stdout",
     "output_type": "stream",
     "text": [
      "p-value: 0.190 > 0.05 значит мы не можем отклонить гипотезу Н0, что озночает, что новый сайт с алгоритмом svm_ensemble_v_1_22 имеет такой же коэффициент конверсии, что и сайт с алгоритмом standard (новый сайт не влияет на уровень конверсии), т.е на новом сайте совершают покупок почти столько же как и на старом\n",
      "Поскольку количество покупок приблизительно одинаково на новом и старом сайте, то не имеет значение какой сайт оставить. Но скорее всего компании будет жалко вложенных денег на новый сайт, потраченного времени и нервов. В этом случаи стоит оставить новый вариант работы. Возможно со временем пользователи поймут привлекательность, удобство и быстроту нового сайта и коэффициент конверсии увеличится\n"
     ]
    }
   ],
   "source": [
    "if pval <= 0.05:  \n",
    "    print(f'p-value: {pval:.3f} <= {0.05} значит мы можем отклонить гипотезу Н0, что озночает, что новый сайт с алгоритмом svm_ensemble_v_1_22 имеет коэффициент конверсии отличный от коэффициента конверсии сайта с алгоритмом standard (новый сайт влияет на уровень конверсии), т.е на новом сайте совершают покупок больше чем на старом либо меньше')    \n",
    "    if mean_con<=mean_treat < 15:\n",
    "        print(f'Доверительный интервал [{lower_treat:.3f}, {upper_treat:.3f}] для экспериментальной группы. Это наш baseline, что не достигает уровня заявленных 15%. Это значит, что вероятно новый сайт будет близок  к baseline чем к заявленным 15%.')\n",
    "    if mean_treat<mean_con:\n",
    "        print(f'Доверительный интервал [{lower_treat:.3f}, {upper_treat:.3f}] для экспериментальной группы. Это наш baseline, что не достигает уровня заявленных 15% и значительно меньше чем коэффициент конверсии старого сайта {mean_con}%. Стоит оставить старый сайт')\n",
    "    if mean_treat >= 15:\n",
    "         print(f'Доверительный интервал [{lower_treat:.3f}, {upper_treat:.3f}] для экспериментальной группы. Это наш baseline, что достигает уровня заявленных 15%. Стоит оставить новый сайт')\n",
    "else:\n",
    "      print(f'p-value: {pval:.3f} > {0.05} значит мы не можем отклонить гипотезу Н0, что озночает, что новый сайт с алгоритмом svm_ensemble_v_1_22 имеет такой же коэффициент конверсии, что и сайт с алгоритмом standard (новый сайт не влияет на уровень конверсии), т.е на новом сайте совершают покупок почти столько же как и на старом')\n",
    "      print('Поскольку количество покупок приблизительно одинаково на новом и старом сайте, то не имеет значение какой сайт оставить. Но скорее всего компании будет жалко вложенных денег на новый сайт, потраченного времени и нервов. В этом случаи стоит оставить новый вариант работы. Возможно со временем пользователи поймут привлекательность, удобство и быстроту нового сайта и коэффициент конверсии увеличится')\n",
    " "
   ]
  },
  {
   "cell_type": "code",
   "execution_count": 81,
   "metadata": {},
   "outputs": [],
   "source": [
    "#используем всю выборку по условию задачи.\n",
    "control_sample = df[(df['group'] == 'control') & (df['variants'] == 'standard')] #.sample(n = required_n, random_state=42)\n",
    "treatment_sample = df[(df['group'] == 'treatment') & (df['variants'] == 'svm_ensemble_v_1_22') ] #.sample(n = required_n, random_state=42)\n",
    "control_sample.shape #посмотрим скока строк\n",
    "treatment_sample.shape #посмотрим скока строк\n",
    "# Сформируем общую выборку\n",
    "ab_df = pd.concat([control_sample, treatment_sample], axis=0)\n",
    "ab_df.reset_index(drop=True, inplace=True)"
   ]
  },
  {
   "cell_type": "code",
   "execution_count": 82,
   "metadata": {},
   "outputs": [
    {
     "data": {
      "text/html": [
       "<div>\n",
       "<style scoped>\n",
       "    .dataframe tbody tr th:only-of-type {\n",
       "        vertical-align: middle;\n",
       "    }\n",
       "\n",
       "    .dataframe tbody tr th {\n",
       "        vertical-align: top;\n",
       "    }\n",
       "\n",
       "    .dataframe thead th {\n",
       "        text-align: right;\n",
       "    }\n",
       "</style>\n",
       "<table border=\"1\" class=\"dataframe\">\n",
       "  <thead>\n",
       "    <tr style=\"text-align: right;\">\n",
       "      <th></th>\n",
       "      <th></th>\n",
       "      <th>CR mean</th>\n",
       "      <th>CR std</th>\n",
       "      <th>CR se</th>\n",
       "    </tr>\n",
       "    <tr>\n",
       "      <th>group</th>\n",
       "      <th>user_type</th>\n",
       "      <th></th>\n",
       "      <th></th>\n",
       "      <th></th>\n",
       "    </tr>\n",
       "  </thead>\n",
       "  <tbody>\n",
       "    <tr>\n",
       "      <th rowspan=\"2\" valign=\"top\">control</th>\n",
       "      <th>new_user</th>\n",
       "      <td>0.120894</td>\n",
       "      <td>0.326004</td>\n",
       "      <td>0.001208</td>\n",
       "    </tr>\n",
       "    <tr>\n",
       "      <th>registered_user</th>\n",
       "      <td>0.119876</td>\n",
       "      <td>0.324817</td>\n",
       "      <td>0.001206</td>\n",
       "    </tr>\n",
       "    <tr>\n",
       "      <th rowspan=\"2\" valign=\"top\">treatment</th>\n",
       "      <th>new_user</th>\n",
       "      <td>0.117326</td>\n",
       "      <td>0.321808</td>\n",
       "      <td>0.001195</td>\n",
       "    </tr>\n",
       "    <tr>\n",
       "      <th>registered_user</th>\n",
       "      <td>0.120282</td>\n",
       "      <td>0.325291</td>\n",
       "      <td>0.001205</td>\n",
       "    </tr>\n",
       "  </tbody>\n",
       "</table>\n",
       "</div>"
      ],
      "text/plain": [
       "                            CR mean    CR std     CR se\n",
       "group     user_type                                    \n",
       "control   new_user         0.120894  0.326004  0.001208\n",
       "          registered_user  0.119876  0.324817  0.001206\n",
       "treatment new_user         0.117326  0.321808  0.001195\n",
       "          registered_user  0.120282  0.325291  0.001205"
      ]
     },
     "execution_count": 82,
     "metadata": {},
     "output_type": "execute_result"
    }
   ],
   "source": [
    "conversion_rates = ab_df.groupby(['group','user_type'])['converted']\n",
    "\n",
    "# Стандартное отклонение для сформированной выборки\n",
    "std_proportion = lambda x: np.std(x, ddof=0)\n",
    "# Стандартная ошибка для сформированной выборки, формулу стандартной ошибки вы знаете из лекций. Забыли - погуглите.\n",
    "se_proportion = lambda x: stats.sem(x, ddof=0)\n",
    "\n",
    "conversion_rates = conversion_rates.agg([np.mean, std_proportion, se_proportion]).rename(columns={'mean':'CR mean', '<lambda_0>':'CR std', '<lambda_1>':'CR se'})\n",
    "conversion_rates"
   ]
  },
  {
   "cell_type": "code",
   "execution_count": 83,
   "metadata": {},
   "outputs": [
    {
     "data": {
      "image/png": "[encoded data removed]",
      "text/plain": [
       "<Figure size 576x432 with 1 Axes>"
      ]
     },
     "metadata": {},
     "output_type": "display_data"
    },
    {
     "data": {
      "image/png": "[encoded data removed]",
      "text/plain": [
       "<Figure size 576x432 with 1 Axes>"
      ]
     },
     "metadata": {},
     "output_type": "display_data"
    }
   ],
   "source": [
    "plt.figure(figsize=(8,6));\n",
    "sns.barplot(x=ab_df[(ab_df['user_type'] == 'new_user')]['group'], y=ab_df[(ab_df['user_type'] == 'new_user')]['converted'], ci=False);\n",
    "plt.ylim(0, 0.17);\n",
    "plt.title('Conversion rate by experimental samples for new_uses', pad=20)\n",
    "plt.xlabel('Group', labelpad=15);\n",
    "plt.ylabel('Converted (proportion)', labelpad=15);\n",
    "\n",
    "plt.figure(figsize=(8,6));\n",
    "sns.barplot(x=ab_df[(ab_df['user_type'] == 'registered_user')]['group'], y=ab_df[(ab_df['user_type'] == 'registered_user')]['converted'], ci=False);\n",
    "plt.ylim(0, 0.17);\n",
    "plt.title('Conversion rate by experimental samples for registered_user', pad=20)\n",
    "plt.xlabel('Group', labelpad=15);\n",
    "plt.ylabel('Converted (proportion)', labelpad=15);"
   ]
  },
  {
   "cell_type": "code",
   "execution_count": 84,
   "metadata": {},
   "outputs": [
    {
     "name": "stdout",
     "output_type": "stream",
     "text": [
      "Статистика new_user\n",
      "Z-statistic: 2.10\n",
      "p-value: 0.036\n",
      "CI 95% for control group: [0.119, 0.123]\n",
      "CI 95% for treatment group: [0.115, 0.120]\n",
      "\n",
      "\n",
      "Статистика registered_user\n",
      "Z-statistic: -0.24\n",
      "p-value: 0.812\n",
      "CI 95% for control group: [0.118, 0.122]\n",
      "CI 95% for treatment group: [0.118, 0.123]\n"
     ]
    }
   ],
   "source": [
    "from statsmodels.stats.proportion import proportions_ztest, proportion_confint\n",
    "\n",
    "def ZP_stat(type_user):\n",
    "    control_results = ab_df[ab_df['group'] == 'control'].groupby('user_type')['converted']\n",
    "    treatment_results = ab_df[ab_df['group'] == 'treatment'].groupby('user_type')['converted']\n",
    "\n",
    "    n_con = control_results.count()[type_user] # пользователи, которые смотрели сайт standard\n",
    "    n_treat = treatment_results.count()[type_user] # пользователи, которые смотрели сайт svm_ensemble_v_1_22\n",
    "\n",
    "\n",
    "    successes = [control_results.sum()[type_user], treatment_results.sum()[type_user]] #это количество успешных испытаний, т.е. сумма 1-ц событий в нашем ab_df для контрольной и экспериментальной групп.\n",
    "    nobs = [n_con, n_treat] #nobs - это общее количество испытаний, т.е. Количество строк в ab_df для контрольой и экспериментальной групп.\n",
    "\n",
    "    z_stat, pval = proportions_ztest(successes, nobs=nobs)\n",
    "    (lower_con, lower_treat), (upper_con, upper_treat) = proportion_confint(successes, nobs=nobs, alpha=0.05)\n",
    "\n",
    "    mean_treat = (lower_treat+upper_treat)*100/2\n",
    "    mean_con = (lower_con + upper_con)*100/2\n",
    "\n",
    "    print('Статистика {0}'.format(type_user))\n",
    "    print(f'Z-statistic: {z_stat:.2f}')\n",
    "    print(f'p-value: {pval:.3f}')\n",
    "    print(f'CI 95% for control group: [{lower_con:.3f}, {upper_con:.3f}]')\n",
    "    print(f'CI 95% for treatment group: [{lower_treat:.3f}, {upper_treat:.3f}]')\n",
    "\n",
    "    return (pval, mean_treat, mean_con, lower_treat, upper_treat )\n",
    "\n",
    "\n",
    "pval_new_user, mean_treat_new_user, mean_con_new_user, lower_treat_new_user, upper_treat_new_user = ZP_stat('new_user')\n",
    "print('\\n')\n",
    "pval_reg_user, mean_treat_reg_user, mean_con_reg_user, lower_treat_reg_user, upper_treat_reg_user = ZP_stat('registered_user')"
   ]
  },
  {
   "cell_type": "markdown",
   "metadata": {},
   "source": [
    "2. Ответ на второй вопрос части 2 практического задания"
   ]
  },
  {
   "cell_type": "code",
   "execution_count": 85,
   "metadata": {},
   "outputs": [
    {
     "name": "stdout",
     "output_type": "stream",
     "text": [
      "Вывод для новых пользователей:\n",
      "p-value: 0.036 <= 0.05 значит мы можем отклонить гипотезу Н0, что озночает, что новый сайт с алгоритмом svm_ensemble_v_1_22 имеет коэффициент конверсии отличный от коэффициента конверсии сайта с алгоритмом standard (новый сайт влияет на уровень конверсии), т.е на новом сайте совершают покупок больше чем на старом либо меньше\n",
      "Доверительный интервал [0.115, 0.120] для экспериментальной группы. Это наш baseline, что не достигает уровня заявленных 15% и значительно меньше чем коэффициент конверсии старого сайта 12.08940665741644%. Стоит оставить старый сайт\n",
      "\n",
      "\n",
      "Вывод для зарегестрированных пользователей:\n",
      "p-value: 0.812 > 0.05 значит мы не можем отклонить гипотезу Н0, что озночает, что новый сайт с алгоритмом svm_ensemble_v_1_22 имеет такой же коэффициент конверсии, что и сайт с алгоритмом standard (новый сайт не влияет на уровень конверсии), т.е на новом сайте совершают покупок почти столько же как и на старом\n",
      "Поскольку количество покупок приблизительно одинаково на новом и старом сайте, то не имеет значение какой сайт оставить. Но скорее всего компании будет жалко вложенных денег на новый сайт, потраченного времени и нервов. В этом случаи стоит оставить новый вариант работы. Возможно со временем пользователи поймут привлекательность, удобство и быстроту нового сайта и коэффициент конверсии увеличится\n"
     ]
    }
   ],
   "source": [
    "def report(pval, mean_con, mean_treat, lower_treat, upper_treat):\n",
    "    if pval <= 0.05:  \n",
    "        print(f'p-value: {pval:.3f} <= {0.05} значит мы можем отклонить гипотезу Н0, что озночает, что новый сайт с алгоритмом svm_ensemble_v_1_22 имеет коэффициент конверсии отличный от коэффициента конверсии сайта с алгоритмом standard (новый сайт влияет на уровень конверсии), т.е на новом сайте совершают покупок больше чем на старом либо меньше')    \n",
    "        if mean_con<=mean_treat < 15:\n",
    "            print(f'Доверительный интервал [{lower_treat:.3f}, {upper_treat:.3f}] для экспериментальной группы. Это наш baseline, что не достигает уровня заявленных 15%. Это значит, что вероятно новый сайт будет близок  к baseline чем к заявленным 15%.')\n",
    "        if mean_treat<mean_con:\n",
    "            print(f'Доверительный интервал [{lower_treat:.3f}, {upper_treat:.3f}] для экспериментальной группы. Это наш baseline, что не достигает уровня заявленных 15% и значительно меньше чем коэффициент конверсии старого сайта {mean_con}%. Стоит оставить старый сайт')\n",
    "        if mean_treat >= 15:\n",
    "            print(f'Доверительный интервал [{lower_treat:.3f}, {upper_treat:.3f}] для экспериментальной группы. Это наш baseline, что достигает уровня заявленных 15%. Стоит оставить новый сайт')\n",
    "    else:\n",
    "        print(f'p-value: {pval:.3f} > {0.05} значит мы не можем отклонить гипотезу Н0, что озночает, что новый сайт с алгоритмом svm_ensemble_v_1_22 имеет такой же коэффициент конверсии, что и сайт с алгоритмом standard (новый сайт не влияет на уровень конверсии), т.е на новом сайте совершают покупок почти столько же как и на старом')\n",
    "        print('Поскольку количество покупок приблизительно одинаково на новом и старом сайте, то не имеет значение какой сайт оставить. Но скорее всего компании будет жалко вложенных денег на новый сайт, потраченного времени и нервов. В этом случаи стоит оставить новый вариант работы. Возможно со временем пользователи поймут привлекательность, удобство и быстроту нового сайта и коэффициент конверсии увеличится')\n",
    "print('Вывод для новых пользователей:')\n",
    "report(pval_new_user, mean_con_new_user, mean_treat_new_user, lower_treat_new_user, upper_treat_new_user)\n",
    "print('\\n')\n",
    "print('Вывод для зарегестрированных пользователей:')\n",
    "report(pval_reg_user, mean_con_reg_user, mean_treat_reg_user, lower_treat_reg_user, upper_treat_reg_user)"
   ]
  }
 ],
 "metadata": {
  "kernelspec": {
   "display_name": "Python 3.10.4 ('pythonProject')",
   "language": "python",
   "name": "python3"
  },
  "language_info": {
   "codemirror_mode": {
    "name": "ipython",
    "version": 3
   },
   "file_extension": ".py",
   "mimetype": "text/x-python",
   "name": "python",
   "nbconvert_exporter": "python",
   "pygments_lexer": "ipython3",
   "version": "3.10.4"
  },
  "vscode": {
   "interpreter": {
    "hash": "a04b0e96a39001dcde3ef110d9aab7edc50a87692e5c15032a80ed4296751e1d"
   }
  }
 },
 "nbformat": 4,
 "nbformat_minor": 0
}
