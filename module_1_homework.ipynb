{
 "cells": [
  {
   "cell_type": "markdown",
   "metadata": {
    "collapsed": false,
    "pycharm": {
     "name": "#%% md\n"
    }
   },
   "source": [
    "# Домашнее задание на проверку знаний библиотеки для анализа данных Pandas.\n",
    "\n",
    "Вам представлен датасет, который содержит информацию по результатам сезона 2016 года игры в бейсбол.\n",
    "\n",
    "Вам необходимо загрузить датасет (он находится в архиве с текущим домашним заданием). Провести его очистку, если это необходимо и ответить на поставленные аналитические\n",
    "вопросы.\n",
    "\n",
    "Список колонок, представленных в датасете:\n",
    "\n",
    "---\n",
    "* attendance        - количество зрителей матча\n",
    "* away_team         - название гостевой команды\n",
    "* away_team_errors  - количество ошибок гостевой команды\n",
    "* away_team_hits    - количество хитов гостевой команды (хит в бейсболе - удар при котором отбивающий достиг первой базы)\n",
    "* away_team_runs    - количество ранов гостевой команды (ран в бейсболе - очко заработанное игроком нападения)\n",
    "* date              - дата проведения матча\n",
    "* field_type        - тип игрового поля\n",
    "* game_type         - тип игры\n",
    "* home_team         - название домашней команды\n",
    "* home_team_errors  - количество ошибок домашней команды\n",
    "* home_team_hits    - количество хитов домашней команды (хит в бейсболе - удар при котором отбивающий достиг первой базы)\n",
    "* home_team_runs    - количество ранов домашней команды (ран в бейсболе - очко заработанное игроком нападения)\n",
    "* start_time        - время начала игрового матча\n",
    "* venue             - название места проведения матча (стадион, поле, арена)\n",
    "* day_of_week       - день недели проведения матча\n",
    "* temperature       - температура воздуха в день проведения матча в фаренгейтах\n",
    "* wind_speed        - скорость ветра в день проведения матча\n",
    "* wind_direction    - направление скорости ветра\n",
    "* sky               - облачность\n",
    "* total_runs        - общее количество ранов для двух команд\n",
    "* game_hours_dec    - длительность матча указаная в часах\n",
    "* season            - тип игрового сезона\n",
    "* home_team_win     - результат домашней команды (1 - выигрыш)\n",
    "* home_team_loss    - результат домашней команды (0 - проигрыш)\n",
    "* home_team_outcome - исход матча\n",
    "---\n",
    "\n",
    "Всего в задании 20 вопросов. За каждый правильный вопрос начисляется 5 баллов. Таким образом за все правильные ответы вы получите - 100 баллов. Оценка затем будет приведена к 10-ти бальной шкале.\n",
    "\n",
    "---\n",
    "\n",
    "**Кроме того, баллы могут быть снижены за**:\n",
    "\n",
    "- 1 балл снижается за качество кода - старайтесь чтобы код был максимально лаконичным. Названия переменных (если они используются) должны отражать максимальную ее сущность. Вывод старайтесь делать минимальным, так как первичная цель - сделать качественный анализ, чтобы быстро ответить на поставленный вопрос (никаких таблиц на 100 строк).\n",
    "\n",
    "\n",
    "- 5 баллов снижается если ответ на домашнюю работу будет прислан в виде скриншота, ноутбука, текстового файла и прочих способов. Используйте при отправке на проверку только GitHub/GitLab либо прочий сервис. Присылать домашнюю работу необходимо ссылкой на ваш репозиторий на адрес электронной почты maratmovlamov2017@gmail.com\n",
    "\n",
    "\n",
    "- за каждый день просрочки дедлайна снижается по 10 баллов. Один день - минус 10 баллов, второй день минус 10 баллов, третий день минус 10 баллов. Соблюдайте сроки и не приступайте к домашнему заданию в последний момент.\n",
    "\n",
    "---\n",
    "\n",
    "Удачи вам в поисках истинны :)"
   ]
  },
  {
   "cell_type": "code",
   "execution_count": 266,
   "metadata": {
    "collapsed": false,
    "pycharm": {
     "name": "#%%\n"
    }
   },
   "outputs": [
    {
     "name": "stdout",
     "output_type": "stream",
     "text": [
      "Requirement already satisfied: numpy in /home/mikhail/anaconda3/envs/pythonProject/lib/python3.10/site-packages (1.22.3)\n",
      "Requirement already satisfied: pandas in /home/mikhail/anaconda3/envs/pythonProject/lib/python3.10/site-packages (1.4.2)\n",
      "Requirement already satisfied: python-dateutil>=2.8.1 in /home/mikhail/anaconda3/envs/pythonProject/lib/python3.10/site-packages (from pandas) (2.8.2)\n",
      "Requirement already satisfied: pytz>=2020.1 in /home/mikhail/anaconda3/envs/pythonProject/lib/python3.10/site-packages (from pandas) (2022.1)\n",
      "Requirement already satisfied: six>=1.5 in /home/mikhail/anaconda3/envs/pythonProject/lib/python3.10/site-packages (from python-dateutil>=2.8.1->pandas) (1.16.0)\n"
     ]
    }
   ],
   "source": [
    "# Импортируйте все необходимые библиотеки и модули которые вам необходимы\n",
    "!pip install numpy pandas\n",
    "import pandas as pd\n",
    "import numpy as np"
   ]
  },
  {
   "cell_type": "code",
   "execution_count": 267,
   "metadata": {
    "collapsed": false,
    "pycharm": {
     "name": "#%%\n"
    }
   },
   "outputs": [
    {
     "data": {
      "text/html": [
       "<div>\n",
       "<style scoped>\n",
       "    .dataframe tbody tr th:only-of-type {\n",
       "        vertical-align: middle;\n",
       "    }\n",
       "\n",
       "    .dataframe tbody tr th {\n",
       "        vertical-align: top;\n",
       "    }\n",
       "\n",
       "    .dataframe thead th {\n",
       "        text-align: right;\n",
       "    }\n",
       "</style>\n",
       "<table border=\"1\" class=\"dataframe\">\n",
       "  <thead>\n",
       "    <tr style=\"text-align: right;\">\n",
       "      <th></th>\n",
       "      <th>Unnamed: 0</th>\n",
       "      <th>attendance</th>\n",
       "      <th>away_team</th>\n",
       "      <th>away_team_errors</th>\n",
       "      <th>away_team_hits</th>\n",
       "      <th>away_team_runs</th>\n",
       "      <th>date</th>\n",
       "      <th>field_type</th>\n",
       "      <th>game_type</th>\n",
       "      <th>home_team</th>\n",
       "      <th>...</th>\n",
       "      <th>wind_speed</th>\n",
       "      <th>wind_direction</th>\n",
       "      <th>sky</th>\n",
       "      <th>total_runs</th>\n",
       "      <th>game_hours_dec</th>\n",
       "      <th>season</th>\n",
       "      <th>home_team_win</th>\n",
       "      <th>home_team_loss</th>\n",
       "      <th>home_team_outcome</th>\n",
       "      <th>num</th>\n",
       "    </tr>\n",
       "  </thead>\n",
       "  <tbody>\n",
       "    <tr>\n",
       "      <th>0</th>\n",
       "      <td>0</td>\n",
       "      <td>40030.0</td>\n",
       "      <td>New York Mets</td>\n",
       "      <td>1</td>\n",
       "      <td>7</td>\n",
       "      <td>3</td>\n",
       "      <td>2016-04-03</td>\n",
       "      <td>on grass</td>\n",
       "      <td>Night Game</td>\n",
       "      <td>Kansas City Royals</td>\n",
       "      <td>...</td>\n",
       "      <td>14.0</td>\n",
       "      <td>from Right to Left</td>\n",
       "      <td>Sunny</td>\n",
       "      <td>7</td>\n",
       "      <td>3.216667</td>\n",
       "      <td>regular season</td>\n",
       "      <td>1</td>\n",
       "      <td>0</td>\n",
       "      <td>Win</td>\n",
       "      <td>0</td>\n",
       "    </tr>\n",
       "    <tr>\n",
       "      <th>1</th>\n",
       "      <td>1</td>\n",
       "      <td>21621.0</td>\n",
       "      <td>Philadelphia Phillies</td>\n",
       "      <td>0</td>\n",
       "      <td>5</td>\n",
       "      <td>2</td>\n",
       "      <td>2016-04-06</td>\n",
       "      <td>on grass</td>\n",
       "      <td>Night Game</td>\n",
       "      <td>Cincinnati Reds</td>\n",
       "      <td>...</td>\n",
       "      <td>24.0</td>\n",
       "      <td>from Right to Left</td>\n",
       "      <td>Overcast</td>\n",
       "      <td>5</td>\n",
       "      <td>2.383333</td>\n",
       "      <td>regular season</td>\n",
       "      <td>1</td>\n",
       "      <td>0</td>\n",
       "      <td>Win</td>\n",
       "      <td>1</td>\n",
       "    </tr>\n",
       "    <tr>\n",
       "      <th>2</th>\n",
       "      <td>2</td>\n",
       "      <td>12622.0</td>\n",
       "      <td>Minnesota Twins</td>\n",
       "      <td>0</td>\n",
       "      <td>5</td>\n",
       "      <td>2</td>\n",
       "      <td>2016-04-06</td>\n",
       "      <td>on grass</td>\n",
       "      <td>Night Game</td>\n",
       "      <td>Baltimore Orioles</td>\n",
       "      <td>...</td>\n",
       "      <td>7.0</td>\n",
       "      <td>out to Leftfield</td>\n",
       "      <td>Unknown</td>\n",
       "      <td>6</td>\n",
       "      <td>3.183333</td>\n",
       "      <td>regular season</td>\n",
       "      <td>1</td>\n",
       "      <td>0</td>\n",
       "      <td>Win</td>\n",
       "      <td>2</td>\n",
       "    </tr>\n",
       "    <tr>\n",
       "      <th>3</th>\n",
       "      <td>3</td>\n",
       "      <td>18531.0</td>\n",
       "      <td>Washington Nationals</td>\n",
       "      <td>0</td>\n",
       "      <td>8</td>\n",
       "      <td>3</td>\n",
       "      <td>2016-04-06</td>\n",
       "      <td>on grass</td>\n",
       "      <td>Night Game</td>\n",
       "      <td>Atlanta Braves</td>\n",
       "      <td>...</td>\n",
       "      <td>10.0</td>\n",
       "      <td>from Right to Left</td>\n",
       "      <td>Cloudy</td>\n",
       "      <td>4</td>\n",
       "      <td>2.883333</td>\n",
       "      <td>regular season</td>\n",
       "      <td>0</td>\n",
       "      <td>1</td>\n",
       "      <td>Loss</td>\n",
       "      <td>3</td>\n",
       "    </tr>\n",
       "    <tr>\n",
       "      <th>4</th>\n",
       "      <td>4</td>\n",
       "      <td>18572.0</td>\n",
       "      <td>Colorado Rockies</td>\n",
       "      <td>1</td>\n",
       "      <td>8</td>\n",
       "      <td>4</td>\n",
       "      <td>2016-04-06</td>\n",
       "      <td>on grass</td>\n",
       "      <td>Day Game</td>\n",
       "      <td>Arizona Diamondbacks</td>\n",
       "      <td>...</td>\n",
       "      <td>0.0</td>\n",
       "      <td>in unknown direction</td>\n",
       "      <td>In Dome</td>\n",
       "      <td>7</td>\n",
       "      <td>2.650000</td>\n",
       "      <td>regular season</td>\n",
       "      <td>0</td>\n",
       "      <td>1</td>\n",
       "      <td>Loss</td>\n",
       "      <td>4</td>\n",
       "    </tr>\n",
       "  </tbody>\n",
       "</table>\n",
       "<p>5 rows × 27 columns</p>\n",
       "</div>"
      ],
      "text/plain": [
       "   Unnamed: 0  attendance              away_team  away_team_errors  \\\n",
       "0           0     40030.0          New York Mets                 1   \n",
       "1           1     21621.0  Philadelphia Phillies                 0   \n",
       "2           2     12622.0        Minnesota Twins                 0   \n",
       "3           3     18531.0   Washington Nationals                 0   \n",
       "4           4     18572.0       Colorado Rockies                 1   \n",
       "\n",
       "   away_team_hits  away_team_runs        date field_type   game_type  \\\n",
       "0               7               3  2016-04-03   on grass  Night Game   \n",
       "1               5               2  2016-04-06   on grass  Night Game   \n",
       "2               5               2  2016-04-06   on grass  Night Game   \n",
       "3               8               3  2016-04-06   on grass  Night Game   \n",
       "4               8               4  2016-04-06   on grass    Day Game   \n",
       "\n",
       "              home_team  ...  wind_speed         wind_direction       sky  \\\n",
       "0    Kansas City Royals  ...        14.0     from Right to Left     Sunny   \n",
       "1       Cincinnati Reds  ...        24.0     from Right to Left  Overcast   \n",
       "2     Baltimore Orioles  ...         7.0       out to Leftfield   Unknown   \n",
       "3        Atlanta Braves  ...        10.0     from Right to Left    Cloudy   \n",
       "4  Arizona Diamondbacks  ...         0.0   in unknown direction   In Dome   \n",
       "\n",
       "  total_runs game_hours_dec          season  home_team_win  home_team_loss  \\\n",
       "0          7       3.216667  regular season              1               0   \n",
       "1          5       2.383333  regular season              1               0   \n",
       "2          6       3.183333  regular season              1               0   \n",
       "3          4       2.883333  regular season              0               1   \n",
       "4          7       2.650000  regular season              0               1   \n",
       "\n",
       "  home_team_outcome num  \n",
       "0               Win   0  \n",
       "1               Win   1  \n",
       "2               Win   2  \n",
       "3              Loss   3  \n",
       "4              Loss   4  \n",
       "\n",
       "[5 rows x 27 columns]"
      ]
     },
     "execution_count": 267,
     "metadata": {},
     "output_type": "execute_result"
    }
   ],
   "source": [
    "# Загрузите датасет и проведите его очистку и форматирование если это необходимо\n",
    "pd.options.display.max_rows = 10  # чтобы в функции describe все строки отображались\n",
    "dataset = pd.read_csv('/home/mikhail/Загрузки/Практическая_часть/baseball_games.csv', encoding='utf-8', sep=',') #путь к файлу и кодировка может быть другой. Зависит от ОС, где будет проверятся ДЗ.\n",
    "dataset['num'] = np.arange(len(dataset)) #добавил колонку с порядковым номером для удобства проверки результатов с файлом\n",
    "dataset.head()\n"
   ]
  },
  {
   "cell_type": "code",
   "execution_count": 269,
   "metadata": {},
   "outputs": [
    {
     "name": "stdout",
     "output_type": "stream",
     "text": [
      "<class 'pandas.core.frame.DataFrame'>\n",
      "RangeIndex: 2463 entries, 0 to 2462\n",
      "Data columns (total 27 columns):\n",
      " #   Column             Non-Null Count  Dtype  \n",
      "---  ------             --------------  -----  \n",
      " 0   Unnamed: 0         2463 non-null   int64  \n",
      " 1   attendance         2463 non-null   float64\n",
      " 2   away_team          2463 non-null   object \n",
      " 3   away_team_errors   2463 non-null   int64  \n",
      " 4   away_team_hits     2463 non-null   int64  \n",
      " 5   away_team_runs     2463 non-null   int64  \n",
      " 6   date               2463 non-null   object \n",
      " 7   field_type         2463 non-null   object \n",
      " 8   game_type          2463 non-null   object \n",
      " 9   home_team          2463 non-null   object \n",
      " 10  home_team_errors   2463 non-null   int64  \n",
      " 11  home_team_hits     2463 non-null   int64  \n",
      " 12  home_team_runs     2463 non-null   int64  \n",
      " 13  start_time         2463 non-null   object \n",
      " 14  venue              2463 non-null   object \n",
      " 15  day_of_week        2463 non-null   object \n",
      " 16  temperature        2463 non-null   float64\n",
      " 17  wind_speed         2463 non-null   float64\n",
      " 18  wind_direction     2463 non-null   object \n",
      " 19  sky                2463 non-null   object \n",
      " 20  total_runs         2463 non-null   int64  \n",
      " 21  game_hours_dec     2463 non-null   float64\n",
      " 22  season             2463 non-null   object \n",
      " 23  home_team_win      2463 non-null   int64  \n",
      " 24  home_team_loss     2463 non-null   int64  \n",
      " 25  home_team_outcome  2463 non-null   object \n",
      " 26  num                2463 non-null   int64  \n",
      "dtypes: float64(4), int64(11), object(12)\n",
      "memory usage: 519.7+ KB\n"
     ]
    }
   ],
   "source": [
    "dataset.info()\n",
    "attendance_median = dataset.attendance.median()\n",
    "#nan значит не вели статистику, 0 значиит никто не пришел\n",
    "dataset['attendance'].fillna(attendance_median,inplace=True) # поле attendance содержит пустые строки, так как оно числовое, то заменил на среднюю медианную"
   ]
  },
  {
   "cell_type": "markdown",
   "metadata": {
    "collapsed": false,
    "pycharm": {
     "name": "#%% md\n"
    }
   },
   "source": [
    "# 1. На какую игру пришло максимальное количество зрителей за весь сезон игр?"
   ]
  },
  {
   "cell_type": "code",
   "execution_count": 270,
   "metadata": {
    "collapsed": false,
    "pycharm": {
     "name": "#%%\n"
    }
   },
   "outputs": [
    {
     "data": {
      "text/html": [
       "<div>\n",
       "<style scoped>\n",
       "    .dataframe tbody tr th:only-of-type {\n",
       "        vertical-align: middle;\n",
       "    }\n",
       "\n",
       "    .dataframe tbody tr th {\n",
       "        vertical-align: top;\n",
       "    }\n",
       "\n",
       "    .dataframe thead th {\n",
       "        text-align: right;\n",
       "    }\n",
       "</style>\n",
       "<table border=\"1\" class=\"dataframe\">\n",
       "  <thead>\n",
       "    <tr style=\"text-align: right;\">\n",
       "      <th></th>\n",
       "      <th>Unnamed: 0</th>\n",
       "      <th>attendance</th>\n",
       "      <th>away_team</th>\n",
       "      <th>away_team_errors</th>\n",
       "      <th>away_team_hits</th>\n",
       "      <th>away_team_runs</th>\n",
       "      <th>date</th>\n",
       "      <th>field_type</th>\n",
       "      <th>game_type</th>\n",
       "      <th>home_team</th>\n",
       "      <th>...</th>\n",
       "      <th>wind_speed</th>\n",
       "      <th>wind_direction</th>\n",
       "      <th>sky</th>\n",
       "      <th>total_runs</th>\n",
       "      <th>game_hours_dec</th>\n",
       "      <th>season</th>\n",
       "      <th>home_team_win</th>\n",
       "      <th>home_team_loss</th>\n",
       "      <th>home_team_outcome</th>\n",
       "      <th>num</th>\n",
       "    </tr>\n",
       "  </thead>\n",
       "  <tbody>\n",
       "    <tr>\n",
       "      <th>534</th>\n",
       "      <td>534</td>\n",
       "      <td>53621.0</td>\n",
       "      <td>San Francisco Giants</td>\n",
       "      <td>1</td>\n",
       "      <td>11</td>\n",
       "      <td>2</td>\n",
       "      <td>2016-09-20</td>\n",
       "      <td>on grass</td>\n",
       "      <td>Night Game</td>\n",
       "      <td>Los Angeles Dodgers</td>\n",
       "      <td>...</td>\n",
       "      <td>6.0</td>\n",
       "      <td>out to Rightfield</td>\n",
       "      <td>Cloudy</td>\n",
       "      <td>2</td>\n",
       "      <td>3.6</td>\n",
       "      <td>regular season</td>\n",
       "      <td>0</td>\n",
       "      <td>1</td>\n",
       "      <td>Loss</td>\n",
       "      <td>534</td>\n",
       "    </tr>\n",
       "  </tbody>\n",
       "</table>\n",
       "<p>1 rows × 27 columns</p>\n",
       "</div>"
      ],
      "text/plain": [
       "     Unnamed: 0  attendance             away_team  away_team_errors  \\\n",
       "534         534     53621.0  San Francisco Giants                 1   \n",
       "\n",
       "     away_team_hits  away_team_runs        date field_type   game_type  \\\n",
       "534              11               2  2016-09-20   on grass  Night Game   \n",
       "\n",
       "               home_team  ...  wind_speed      wind_direction     sky  \\\n",
       "534  Los Angeles Dodgers  ...         6.0   out to Rightfield  Cloudy   \n",
       "\n",
       "    total_runs game_hours_dec          season  home_team_win  home_team_loss  \\\n",
       "534          2            3.6  regular season              0               1   \n",
       "\n",
       "    home_team_outcome  num  \n",
       "534              Loss  534  \n",
       "\n",
       "[1 rows x 27 columns]"
      ]
     },
     "execution_count": 270,
     "metadata": {},
     "output_type": "execute_result"
    }
   ],
   "source": [
    "# Учитываем только регулярный сезон  так как в Slack так написали\n",
    "ds_regular_season = dataset[dataset.season =='regular season'] # фильтруем регулярный сезон\n",
    "ds_regular_season[ds_regular_season['attendance'] == ds_regular_season['attendance'].max()]\n",
    "#dataset[dataset['attendance'] == dataset['attendance'].max()]\n"
   ]
  },
  {
   "cell_type": "markdown",
   "metadata": {
    "collapsed": false,
    "pycharm": {
     "name": "#%% md\n"
    }
   },
   "source": [
    "# 2. Какая игра была самая холодная (temperature) за весь сезон?"
   ]
  },
  {
   "cell_type": "code",
   "execution_count": 271,
   "metadata": {},
   "outputs": [
    {
     "data": {
      "text/html": [
       "<div>\n",
       "<style scoped>\n",
       "    .dataframe tbody tr th:only-of-type {\n",
       "        vertical-align: middle;\n",
       "    }\n",
       "\n",
       "    .dataframe tbody tr th {\n",
       "        vertical-align: top;\n",
       "    }\n",
       "\n",
       "    .dataframe thead th {\n",
       "        text-align: right;\n",
       "    }\n",
       "</style>\n",
       "<table border=\"1\" class=\"dataframe\">\n",
       "  <thead>\n",
       "    <tr style=\"text-align: right;\">\n",
       "      <th></th>\n",
       "      <th>Unnamed: 0</th>\n",
       "      <th>attendance</th>\n",
       "      <th>away_team</th>\n",
       "      <th>away_team_errors</th>\n",
       "      <th>away_team_hits</th>\n",
       "      <th>away_team_runs</th>\n",
       "      <th>date</th>\n",
       "      <th>field_type</th>\n",
       "      <th>game_type</th>\n",
       "      <th>home_team</th>\n",
       "      <th>...</th>\n",
       "      <th>wind_speed</th>\n",
       "      <th>wind_direction</th>\n",
       "      <th>sky</th>\n",
       "      <th>total_runs</th>\n",
       "      <th>game_hours_dec</th>\n",
       "      <th>season</th>\n",
       "      <th>home_team_win</th>\n",
       "      <th>home_team_loss</th>\n",
       "      <th>home_team_outcome</th>\n",
       "      <th>num</th>\n",
       "    </tr>\n",
       "  </thead>\n",
       "  <tbody>\n",
       "    <tr>\n",
       "      <th>2409</th>\n",
       "      <td>2409</td>\n",
       "      <td>32419.0</td>\n",
       "      <td>New York Yankees</td>\n",
       "      <td>1</td>\n",
       "      <td>13</td>\n",
       "      <td>8</td>\n",
       "      <td>2016-04-09</td>\n",
       "      <td>on grass</td>\n",
       "      <td>Day Game</td>\n",
       "      <td>Detroit Tigers</td>\n",
       "      <td>...</td>\n",
       "      <td>18.0</td>\n",
       "      <td>from Left to Right</td>\n",
       "      <td>Cloudy</td>\n",
       "      <td>12</td>\n",
       "      <td>3.333333</td>\n",
       "      <td>regular season</td>\n",
       "      <td>0</td>\n",
       "      <td>1</td>\n",
       "      <td>Loss</td>\n",
       "      <td>2409</td>\n",
       "    </tr>\n",
       "  </tbody>\n",
       "</table>\n",
       "<p>1 rows × 27 columns</p>\n",
       "</div>"
      ],
      "text/plain": [
       "      Unnamed: 0  attendance         away_team  away_team_errors  \\\n",
       "2409        2409     32419.0  New York Yankees                 1   \n",
       "\n",
       "      away_team_hits  away_team_runs        date field_type game_type  \\\n",
       "2409              13               8  2016-04-09   on grass  Day Game   \n",
       "\n",
       "           home_team  ...  wind_speed       wind_direction     sky total_runs  \\\n",
       "2409  Detroit Tigers  ...        18.0   from Left to Right  Cloudy         12   \n",
       "\n",
       "     game_hours_dec          season  home_team_win  home_team_loss  \\\n",
       "2409       3.333333  regular season              0               1   \n",
       "\n",
       "     home_team_outcome   num  \n",
       "2409              Loss  2409  \n",
       "\n",
       "[1 rows x 27 columns]"
      ]
     },
     "execution_count": 271,
     "metadata": {},
     "output_type": "execute_result"
    }
   ],
   "source": [
    "dataset.describe()\n",
    "ds_regular_season = dataset[dataset.season =='regular season'] # фильтруем регулярный сезон\n",
    "ds_regular_season[ds_regular_season['temperature'] == ds_regular_season['temperature'].min()]"
   ]
  },
  {
   "cell_type": "markdown",
   "metadata": {
    "collapsed": false,
    "pycharm": {
     "name": "#%% md\n"
    }
   },
   "source": [
    "# 3. Какая игра была самая теплая за весь сезон?"
   ]
  },
  {
   "cell_type": "code",
   "execution_count": 272,
   "metadata": {
    "collapsed": false,
    "pycharm": {
     "name": "#%%\n"
    }
   },
   "outputs": [
    {
     "data": {
      "text/html": [
       "<div>\n",
       "<style scoped>\n",
       "    .dataframe tbody tr th:only-of-type {\n",
       "        vertical-align: middle;\n",
       "    }\n",
       "\n",
       "    .dataframe tbody tr th {\n",
       "        vertical-align: top;\n",
       "    }\n",
       "\n",
       "    .dataframe thead th {\n",
       "        text-align: right;\n",
       "    }\n",
       "</style>\n",
       "<table border=\"1\" class=\"dataframe\">\n",
       "  <thead>\n",
       "    <tr style=\"text-align: right;\">\n",
       "      <th></th>\n",
       "      <th>Unnamed: 0</th>\n",
       "      <th>attendance</th>\n",
       "      <th>away_team</th>\n",
       "      <th>away_team_errors</th>\n",
       "      <th>away_team_hits</th>\n",
       "      <th>away_team_runs</th>\n",
       "      <th>date</th>\n",
       "      <th>field_type</th>\n",
       "      <th>game_type</th>\n",
       "      <th>home_team</th>\n",
       "      <th>...</th>\n",
       "      <th>wind_speed</th>\n",
       "      <th>wind_direction</th>\n",
       "      <th>sky</th>\n",
       "      <th>total_runs</th>\n",
       "      <th>game_hours_dec</th>\n",
       "      <th>season</th>\n",
       "      <th>home_team_win</th>\n",
       "      <th>home_team_loss</th>\n",
       "      <th>home_team_outcome</th>\n",
       "      <th>num</th>\n",
       "    </tr>\n",
       "  </thead>\n",
       "  <tbody>\n",
       "    <tr>\n",
       "      <th>2026</th>\n",
       "      <td>2026</td>\n",
       "      <td>21753.0</td>\n",
       "      <td>San Francisco Giants</td>\n",
       "      <td>0</td>\n",
       "      <td>8</td>\n",
       "      <td>3</td>\n",
       "      <td>2016-05-13</td>\n",
       "      <td>on grass</td>\n",
       "      <td>Night Game</td>\n",
       "      <td>Arizona Diamondbacks</td>\n",
       "      <td>...</td>\n",
       "      <td>9.0</td>\n",
       "      <td>in unknown direction</td>\n",
       "      <td>Sunny</td>\n",
       "      <td>4</td>\n",
       "      <td>3.0</td>\n",
       "      <td>regular season</td>\n",
       "      <td>0</td>\n",
       "      <td>1</td>\n",
       "      <td>Loss</td>\n",
       "      <td>2026</td>\n",
       "    </tr>\n",
       "  </tbody>\n",
       "</table>\n",
       "<p>1 rows × 27 columns</p>\n",
       "</div>"
      ],
      "text/plain": [
       "      Unnamed: 0  attendance             away_team  away_team_errors  \\\n",
       "2026        2026     21753.0  San Francisco Giants                 0   \n",
       "\n",
       "      away_team_hits  away_team_runs        date field_type   game_type  \\\n",
       "2026               8               3  2016-05-13   on grass  Night Game   \n",
       "\n",
       "                 home_team  ...  wind_speed         wind_direction    sky  \\\n",
       "2026  Arizona Diamondbacks  ...         9.0   in unknown direction  Sunny   \n",
       "\n",
       "     total_runs game_hours_dec          season  home_team_win  home_team_loss  \\\n",
       "2026          4            3.0  regular season              0               1   \n",
       "\n",
       "     home_team_outcome   num  \n",
       "2026              Loss  2026  \n",
       "\n",
       "[1 rows x 27 columns]"
      ]
     },
     "execution_count": 272,
     "metadata": {},
     "output_type": "execute_result"
    }
   ],
   "source": [
    "ds_regular_season = dataset[dataset.season =='regular season'] # фильтруем регулярный сезон\n",
    "ds_regular_season[ds_regular_season['temperature'] == ds_regular_season['temperature'].max()]"
   ]
  },
  {
   "cell_type": "markdown",
   "metadata": {
    "collapsed": false,
    "pycharm": {
     "name": "#%% md\n"
    }
   },
   "source": [
    "# 4. Какая игра в сезоне была самая долгая по продолжительности матча?"
   ]
  },
  {
   "cell_type": "code",
   "execution_count": 273,
   "metadata": {
    "collapsed": false,
    "pycharm": {
     "name": "#%%\n"
    }
   },
   "outputs": [
    {
     "data": {
      "text/html": [
       "<div>\n",
       "<style scoped>\n",
       "    .dataframe tbody tr th:only-of-type {\n",
       "        vertical-align: middle;\n",
       "    }\n",
       "\n",
       "    .dataframe tbody tr th {\n",
       "        vertical-align: top;\n",
       "    }\n",
       "\n",
       "    .dataframe thead th {\n",
       "        text-align: right;\n",
       "    }\n",
       "</style>\n",
       "<table border=\"1\" class=\"dataframe\">\n",
       "  <thead>\n",
       "    <tr style=\"text-align: right;\">\n",
       "      <th></th>\n",
       "      <th>Unnamed: 0</th>\n",
       "      <th>attendance</th>\n",
       "      <th>away_team</th>\n",
       "      <th>away_team_errors</th>\n",
       "      <th>away_team_hits</th>\n",
       "      <th>away_team_runs</th>\n",
       "      <th>date</th>\n",
       "      <th>field_type</th>\n",
       "      <th>game_type</th>\n",
       "      <th>home_team</th>\n",
       "      <th>...</th>\n",
       "      <th>wind_speed</th>\n",
       "      <th>wind_direction</th>\n",
       "      <th>sky</th>\n",
       "      <th>total_runs</th>\n",
       "      <th>game_hours_dec</th>\n",
       "      <th>season</th>\n",
       "      <th>home_team_win</th>\n",
       "      <th>home_team_loss</th>\n",
       "      <th>home_team_outcome</th>\n",
       "      <th>num</th>\n",
       "    </tr>\n",
       "  </thead>\n",
       "  <tbody>\n",
       "    <tr>\n",
       "      <th>1445</th>\n",
       "      <td>1445</td>\n",
       "      <td>45825.0</td>\n",
       "      <td>Cleveland Indians</td>\n",
       "      <td>0</td>\n",
       "      <td>15</td>\n",
       "      <td>2</td>\n",
       "      <td>2016-07-01</td>\n",
       "      <td>on turf</td>\n",
       "      <td>Day Game</td>\n",
       "      <td>Toronto Blue Jays</td>\n",
       "      <td>...</td>\n",
       "      <td>0.0</td>\n",
       "      <td>in unknown direction</td>\n",
       "      <td>In Dome</td>\n",
       "      <td>3</td>\n",
       "      <td>6.216667</td>\n",
       "      <td>regular season</td>\n",
       "      <td>0</td>\n",
       "      <td>1</td>\n",
       "      <td>Loss</td>\n",
       "      <td>1445</td>\n",
       "    </tr>\n",
       "  </tbody>\n",
       "</table>\n",
       "<p>1 rows × 27 columns</p>\n",
       "</div>"
      ],
      "text/plain": [
       "      Unnamed: 0  attendance          away_team  away_team_errors  \\\n",
       "1445        1445     45825.0  Cleveland Indians                 0   \n",
       "\n",
       "      away_team_hits  away_team_runs        date field_type game_type  \\\n",
       "1445              15               2  2016-07-01    on turf  Day Game   \n",
       "\n",
       "              home_team  ...  wind_speed         wind_direction      sky  \\\n",
       "1445  Toronto Blue Jays  ...         0.0   in unknown direction  In Dome   \n",
       "\n",
       "     total_runs game_hours_dec          season  home_team_win  home_team_loss  \\\n",
       "1445          3       6.216667  regular season              0               1   \n",
       "\n",
       "     home_team_outcome   num  \n",
       "1445              Loss  1445  \n",
       "\n",
       "[1 rows x 27 columns]"
      ]
     },
     "execution_count": 273,
     "metadata": {},
     "output_type": "execute_result"
    }
   ],
   "source": [
    "dataset.describe()\n",
    "ds_regular_season = dataset[dataset.season =='regular season'] # фильтруем регулярный сезон\n",
    "ds_regular_season[ds_regular_season['game_hours_dec'] == ds_regular_season['game_hours_dec'].max()]\n",
    "#способ 1\n",
    "#dataset.sort_values('game_hours_dec', ascending=False).groupby('season').first()# сортируем, группируем по сезонам\n",
    "#способ 2\n",
    "#dataset.groupby('season').apply(lambda X: X[X['game_hours_dec'] == X['game_hours_dec'].max()]) # группируем по сезонам, задаем условие отбора в сгруппированных данных\n"
   ]
  },
  {
   "cell_type": "markdown",
   "metadata": {
    "collapsed": false,
    "pycharm": {
     "name": "#%% md\n"
    }
   },
   "source": [
    "# 5. Какая игра в сезоне была самая короткая по продолжительности матча?"
   ]
  },
  {
   "cell_type": "code",
   "execution_count": 274,
   "metadata": {
    "collapsed": false,
    "pycharm": {
     "name": "#%%\n"
    }
   },
   "outputs": [
    {
     "data": {
      "text/html": [
       "<div>\n",
       "<style scoped>\n",
       "    .dataframe tbody tr th:only-of-type {\n",
       "        vertical-align: middle;\n",
       "    }\n",
       "\n",
       "    .dataframe tbody tr th {\n",
       "        vertical-align: top;\n",
       "    }\n",
       "\n",
       "    .dataframe thead th {\n",
       "        text-align: right;\n",
       "    }\n",
       "</style>\n",
       "<table border=\"1\" class=\"dataframe\">\n",
       "  <thead>\n",
       "    <tr style=\"text-align: right;\">\n",
       "      <th></th>\n",
       "      <th>Unnamed: 0</th>\n",
       "      <th>attendance</th>\n",
       "      <th>away_team</th>\n",
       "      <th>away_team_errors</th>\n",
       "      <th>away_team_hits</th>\n",
       "      <th>away_team_runs</th>\n",
       "      <th>date</th>\n",
       "      <th>field_type</th>\n",
       "      <th>game_type</th>\n",
       "      <th>home_team</th>\n",
       "      <th>...</th>\n",
       "      <th>wind_speed</th>\n",
       "      <th>wind_direction</th>\n",
       "      <th>sky</th>\n",
       "      <th>total_runs</th>\n",
       "      <th>game_hours_dec</th>\n",
       "      <th>season</th>\n",
       "      <th>home_team_win</th>\n",
       "      <th>home_team_loss</th>\n",
       "      <th>home_team_outcome</th>\n",
       "      <th>num</th>\n",
       "    </tr>\n",
       "  </thead>\n",
       "  <tbody>\n",
       "    <tr>\n",
       "      <th>423</th>\n",
       "      <td>423</td>\n",
       "      <td>19991.0</td>\n",
       "      <td>Chicago Cubs</td>\n",
       "      <td>1</td>\n",
       "      <td>4</td>\n",
       "      <td>1</td>\n",
       "      <td>2016-09-29</td>\n",
       "      <td>on grass</td>\n",
       "      <td>Night Game</td>\n",
       "      <td>Pittsburgh Pirates</td>\n",
       "      <td>...</td>\n",
       "      <td>12.0</td>\n",
       "      <td>in from Leftfield</td>\n",
       "      <td>Overcast</td>\n",
       "      <td>2</td>\n",
       "      <td>1.25</td>\n",
       "      <td>regular season</td>\n",
       "      <td>0</td>\n",
       "      <td>0</td>\n",
       "      <td>Loss</td>\n",
       "      <td>423</td>\n",
       "    </tr>\n",
       "  </tbody>\n",
       "</table>\n",
       "<p>1 rows × 27 columns</p>\n",
       "</div>"
      ],
      "text/plain": [
       "     Unnamed: 0  attendance     away_team  away_team_errors  away_team_hits  \\\n",
       "423         423     19991.0  Chicago Cubs                 1               4   \n",
       "\n",
       "     away_team_runs        date field_type   game_type           home_team  \\\n",
       "423               1  2016-09-29   on grass  Night Game  Pittsburgh Pirates   \n",
       "\n",
       "     ...  wind_speed      wind_direction       sky total_runs game_hours_dec  \\\n",
       "423  ...        12.0   in from Leftfield  Overcast          2           1.25   \n",
       "\n",
       "             season  home_team_win  home_team_loss home_team_outcome  num  \n",
       "423  regular season              0               0              Loss  423  \n",
       "\n",
       "[1 rows x 27 columns]"
      ]
     },
     "execution_count": 274,
     "metadata": {},
     "output_type": "execute_result"
    }
   ],
   "source": [
    "dataset.describe()\n",
    "ds_regular_season = dataset[dataset.season =='regular season'] # фильтруем регулярный сезон\n",
    "ds_regular_season[ds_regular_season['game_hours_dec'] == ds_regular_season['game_hours_dec'].min()]\n",
    "#способ 1\n",
    "#dataset.sort_values('game_hours_dec', ascending=True).groupby('season').first()# сортируем, группируем по сезонам\n",
    "#способ 2\n",
    "#dataset.groupby('season').apply(lambda X: X[X['game_hours_dec'] == X['game_hours_dec'].min()]) # группируем по сезонам, задаем условие отбора\n"
   ]
  },
  {
   "cell_type": "markdown",
   "metadata": {
    "collapsed": false,
    "pycharm": {
     "name": "#%% md\n"
    }
   },
   "source": [
    "# 6. Сколько матчей в сезоне закончилось ничьей?"
   ]
  },
  {
   "cell_type": "code",
   "execution_count": 282,
   "metadata": {
    "collapsed": false,
    "pycharm": {
     "name": "#%%\n"
    }
   },
   "outputs": [
    {
     "data": {
      "text/plain": [
       "1"
      ]
     },
     "execution_count": 282,
     "metadata": {},
     "output_type": "execute_result"
    }
   ],
   "source": [
    "ds_regular_season = dataset[dataset.season =='regular season'] # фильтруем регулярный сезон\n",
    "ds_regular_season[ds_regular_season['home_team_loss'] == ds_regular_season['home_team_win']].count()[0]\n",
    "\n",
    "\n",
    "#dataset.groupby('season').apply(lambda X: X[X['home_team_loss'] == X['home_team_win']]) # группируем по сезонам, задаем условие отбора\n",
    "\n",
    "#можно так\n",
    "#for home_team_win,home_team_loss,home_team_outcome in zip(dataset['home_team_win'],dataset['home_team_loss'],dataset['home_team_outcome']):\n",
    "#    if home_team_win == home_team_loss:\n",
    "#        print(home_team_win, home_team_loss, home_team_outcome)\n",
    "#        print('dead heat')"
   ]
  },
  {
   "cell_type": "markdown",
   "metadata": {
    "collapsed": false,
    "pycharm": {
     "name": "#%% md\n"
    }
   },
   "source": [
    "# 7. Какая игра была последней в сезоне?"
   ]
  },
  {
   "cell_type": "code",
   "execution_count": 284,
   "metadata": {
    "collapsed": false,
    "pycharm": {
     "name": "#%%\n"
    }
   },
   "outputs": [
    {
     "data": {
      "text/html": [
       "<div>\n",
       "<style scoped>\n",
       "    .dataframe tbody tr th:only-of-type {\n",
       "        vertical-align: middle;\n",
       "    }\n",
       "\n",
       "    .dataframe tbody tr th {\n",
       "        vertical-align: top;\n",
       "    }\n",
       "\n",
       "    .dataframe thead th {\n",
       "        text-align: right;\n",
       "    }\n",
       "</style>\n",
       "<table border=\"1\" class=\"dataframe\">\n",
       "  <thead>\n",
       "    <tr style=\"text-align: right;\">\n",
       "      <th></th>\n",
       "      <th>Unnamed: 0</th>\n",
       "      <th>attendance</th>\n",
       "      <th>away_team</th>\n",
       "      <th>away_team_errors</th>\n",
       "      <th>away_team_hits</th>\n",
       "      <th>away_team_runs</th>\n",
       "      <th>date</th>\n",
       "      <th>field_type</th>\n",
       "      <th>game_type</th>\n",
       "      <th>home_team</th>\n",
       "      <th>...</th>\n",
       "      <th>wind_speed</th>\n",
       "      <th>wind_direction</th>\n",
       "      <th>sky</th>\n",
       "      <th>total_runs</th>\n",
       "      <th>game_hours_dec</th>\n",
       "      <th>season</th>\n",
       "      <th>home_team_win</th>\n",
       "      <th>home_team_loss</th>\n",
       "      <th>home_team_outcome</th>\n",
       "      <th>num</th>\n",
       "    </tr>\n",
       "  </thead>\n",
       "  <tbody>\n",
       "    <tr>\n",
       "      <th>395</th>\n",
       "      <td>395</td>\n",
       "      <td>36787.0</td>\n",
       "      <td>Toronto Blue Jays</td>\n",
       "      <td>0</td>\n",
       "      <td>9</td>\n",
       "      <td>2</td>\n",
       "      <td>2016-10-02</td>\n",
       "      <td>on grass</td>\n",
       "      <td>Day Game</td>\n",
       "      <td>Boston Red Sox</td>\n",
       "      <td>...</td>\n",
       "      <td>6.0</td>\n",
       "      <td>out to Leftfield</td>\n",
       "      <td>Unknown</td>\n",
       "      <td>3</td>\n",
       "      <td>3.233333</td>\n",
       "      <td>regular season</td>\n",
       "      <td>0</td>\n",
       "      <td>1</td>\n",
       "      <td>Loss</td>\n",
       "      <td>395</td>\n",
       "    </tr>\n",
       "  </tbody>\n",
       "</table>\n",
       "<p>1 rows × 27 columns</p>\n",
       "</div>"
      ],
      "text/plain": [
       "     Unnamed: 0  attendance          away_team  away_team_errors  \\\n",
       "395         395     36787.0  Toronto Blue Jays                 0   \n",
       "\n",
       "     away_team_hits  away_team_runs        date field_type game_type  \\\n",
       "395               9               2  2016-10-02   on grass  Day Game   \n",
       "\n",
       "          home_team  ...  wind_speed     wind_direction      sky total_runs  \\\n",
       "395  Boston Red Sox  ...         6.0   out to Leftfield  Unknown          3   \n",
       "\n",
       "    game_hours_dec          season  home_team_win  home_team_loss  \\\n",
       "395       3.233333  regular season              0               1   \n",
       "\n",
       "    home_team_outcome  num  \n",
       "395              Loss  395  \n",
       "\n",
       "[1 rows x 27 columns]"
      ]
     },
     "execution_count": 284,
     "metadata": {},
     "output_type": "execute_result"
    }
   ],
   "source": [
    "ds_regular_season = dataset[dataset.season =='regular season'] # фильтруем регулярный сезон\n",
    "ds_regular_season_date_max = ds_regular_season[ds_regular_season['date'] == ds_regular_season['date'].max()]  # находим игры с максимальной датой\n",
    "ds_regular_season_date_max[ds_regular_season_date_max['start_time'] == ds_regular_season_date_max['start_time'].max()] # находим игры с самым крайним временем\n",
    "\n",
    "#с группировкой по типам сезона\n",
    "#dataset.groupby('season').apply(lambda X: X[(X['date'] == X['date'].max())]).groupby('date').apply(lambda df: df[df.start_time == df.start_time.max()])\n"
   ]
  },
  {
   "cell_type": "markdown",
   "metadata": {
    "collapsed": false,
    "pycharm": {
     "name": "#%% md\n"
    }
   },
   "source": [
    "# 8. У какой игры было минимальное количество зрителей?"
   ]
  },
  {
   "cell_type": "code",
   "execution_count": 285,
   "metadata": {
    "collapsed": false,
    "pycharm": {
     "name": "#%%\n"
    }
   },
   "outputs": [
    {
     "data": {
      "text/html": [
       "<div>\n",
       "<style scoped>\n",
       "    .dataframe tbody tr th:only-of-type {\n",
       "        vertical-align: middle;\n",
       "    }\n",
       "\n",
       "    .dataframe tbody tr th {\n",
       "        vertical-align: top;\n",
       "    }\n",
       "\n",
       "    .dataframe thead th {\n",
       "        text-align: right;\n",
       "    }\n",
       "</style>\n",
       "<table border=\"1\" class=\"dataframe\">\n",
       "  <thead>\n",
       "    <tr style=\"text-align: right;\">\n",
       "      <th></th>\n",
       "      <th>Unnamed: 0</th>\n",
       "      <th>attendance</th>\n",
       "      <th>away_team</th>\n",
       "      <th>away_team_errors</th>\n",
       "      <th>away_team_hits</th>\n",
       "      <th>away_team_runs</th>\n",
       "      <th>date</th>\n",
       "      <th>field_type</th>\n",
       "      <th>game_type</th>\n",
       "      <th>home_team</th>\n",
       "      <th>...</th>\n",
       "      <th>wind_speed</th>\n",
       "      <th>wind_direction</th>\n",
       "      <th>sky</th>\n",
       "      <th>total_runs</th>\n",
       "      <th>game_hours_dec</th>\n",
       "      <th>season</th>\n",
       "      <th>home_team_win</th>\n",
       "      <th>home_team_loss</th>\n",
       "      <th>home_team_outcome</th>\n",
       "      <th>num</th>\n",
       "    </tr>\n",
       "  </thead>\n",
       "  <tbody>\n",
       "    <tr>\n",
       "      <th>2130</th>\n",
       "      <td>2130</td>\n",
       "      <td>8766.0</td>\n",
       "      <td>Detroit Tigers</td>\n",
       "      <td>0</td>\n",
       "      <td>5</td>\n",
       "      <td>0</td>\n",
       "      <td>2016-05-04</td>\n",
       "      <td>on grass</td>\n",
       "      <td>Night Game</td>\n",
       "      <td>Cleveland Indians</td>\n",
       "      <td>...</td>\n",
       "      <td>11.0</td>\n",
       "      <td>from Left to Right</td>\n",
       "      <td>Overcast</td>\n",
       "      <td>4</td>\n",
       "      <td>2.316667</td>\n",
       "      <td>regular season</td>\n",
       "      <td>1</td>\n",
       "      <td>0</td>\n",
       "      <td>Win</td>\n",
       "      <td>2130</td>\n",
       "    </tr>\n",
       "  </tbody>\n",
       "</table>\n",
       "<p>1 rows × 27 columns</p>\n",
       "</div>"
      ],
      "text/plain": [
       "      Unnamed: 0  attendance       away_team  away_team_errors  \\\n",
       "2130        2130      8766.0  Detroit Tigers                 0   \n",
       "\n",
       "      away_team_hits  away_team_runs        date field_type   game_type  \\\n",
       "2130               5               0  2016-05-04   on grass  Night Game   \n",
       "\n",
       "              home_team  ...  wind_speed       wind_direction       sky  \\\n",
       "2130  Cleveland Indians  ...        11.0   from Left to Right  Overcast   \n",
       "\n",
       "     total_runs game_hours_dec          season  home_team_win  home_team_loss  \\\n",
       "2130          4       2.316667  regular season              1               0   \n",
       "\n",
       "     home_team_outcome   num  \n",
       "2130               Win  2130  \n",
       "\n",
       "[1 rows x 27 columns]"
      ]
     },
     "execution_count": 285,
     "metadata": {},
     "output_type": "execute_result"
    }
   ],
   "source": [
    "ds_regular_season = dataset[dataset.season =='regular season'] # фильтруем регулярный сезон\n",
    "ds_regular_season[ds_regular_season['attendance'] == ds_regular_season['attendance'].min()]"
   ]
  },
  {
   "cell_type": "markdown",
   "metadata": {
    "collapsed": false,
    "pycharm": {
     "name": "#%% md\n"
    }
   },
   "source": [
    "# 9. Какая игра в сезоне была самая ветренная?"
   ]
  },
  {
   "cell_type": "code",
   "execution_count": 286,
   "metadata": {
    "collapsed": false,
    "pycharm": {
     "name": "#%%\n"
    }
   },
   "outputs": [
    {
     "data": {
      "text/html": [
       "<div>\n",
       "<style scoped>\n",
       "    .dataframe tbody tr th:only-of-type {\n",
       "        vertical-align: middle;\n",
       "    }\n",
       "\n",
       "    .dataframe tbody tr th {\n",
       "        vertical-align: top;\n",
       "    }\n",
       "\n",
       "    .dataframe thead th {\n",
       "        text-align: right;\n",
       "    }\n",
       "</style>\n",
       "<table border=\"1\" class=\"dataframe\">\n",
       "  <thead>\n",
       "    <tr style=\"text-align: right;\">\n",
       "      <th></th>\n",
       "      <th>Unnamed: 0</th>\n",
       "      <th>attendance</th>\n",
       "      <th>away_team</th>\n",
       "      <th>away_team_errors</th>\n",
       "      <th>away_team_hits</th>\n",
       "      <th>away_team_runs</th>\n",
       "      <th>date</th>\n",
       "      <th>field_type</th>\n",
       "      <th>game_type</th>\n",
       "      <th>home_team</th>\n",
       "      <th>...</th>\n",
       "      <th>wind_speed</th>\n",
       "      <th>wind_direction</th>\n",
       "      <th>sky</th>\n",
       "      <th>total_runs</th>\n",
       "      <th>game_hours_dec</th>\n",
       "      <th>season</th>\n",
       "      <th>home_team_win</th>\n",
       "      <th>home_team_loss</th>\n",
       "      <th>home_team_outcome</th>\n",
       "      <th>num</th>\n",
       "    </tr>\n",
       "  </thead>\n",
       "  <tbody>\n",
       "    <tr>\n",
       "      <th>1655</th>\n",
       "      <td>1655</td>\n",
       "      <td>41543.0</td>\n",
       "      <td>Milwaukee Brewers</td>\n",
       "      <td>1</td>\n",
       "      <td>11</td>\n",
       "      <td>5</td>\n",
       "      <td>2016-06-13</td>\n",
       "      <td>on grass</td>\n",
       "      <td>Night Game</td>\n",
       "      <td>San Francisco Giants</td>\n",
       "      <td>...</td>\n",
       "      <td>25.0</td>\n",
       "      <td>out to Centerfield</td>\n",
       "      <td>Cloudy</td>\n",
       "      <td>16</td>\n",
       "      <td>3.633333</td>\n",
       "      <td>regular season</td>\n",
       "      <td>1</td>\n",
       "      <td>0</td>\n",
       "      <td>Win</td>\n",
       "      <td>1655</td>\n",
       "    </tr>\n",
       "    <tr>\n",
       "      <th>2005</th>\n",
       "      <td>2005</td>\n",
       "      <td>35736.0</td>\n",
       "      <td>Houston Astros</td>\n",
       "      <td>2</td>\n",
       "      <td>8</td>\n",
       "      <td>9</td>\n",
       "      <td>2016-05-15</td>\n",
       "      <td>on grass</td>\n",
       "      <td>Day Game</td>\n",
       "      <td>Boston Red Sox</td>\n",
       "      <td>...</td>\n",
       "      <td>25.0</td>\n",
       "      <td>out to Rightfield</td>\n",
       "      <td>Cloudy</td>\n",
       "      <td>19</td>\n",
       "      <td>3.666667</td>\n",
       "      <td>regular season</td>\n",
       "      <td>1</td>\n",
       "      <td>0</td>\n",
       "      <td>Win</td>\n",
       "      <td>2005</td>\n",
       "    </tr>\n",
       "  </tbody>\n",
       "</table>\n",
       "<p>2 rows × 27 columns</p>\n",
       "</div>"
      ],
      "text/plain": [
       "      Unnamed: 0  attendance          away_team  away_team_errors  \\\n",
       "1655        1655     41543.0  Milwaukee Brewers                 1   \n",
       "2005        2005     35736.0     Houston Astros                 2   \n",
       "\n",
       "      away_team_hits  away_team_runs        date field_type   game_type  \\\n",
       "1655              11               5  2016-06-13   on grass  Night Game   \n",
       "2005               8               9  2016-05-15   on grass    Day Game   \n",
       "\n",
       "                 home_team  ...  wind_speed       wind_direction     sky  \\\n",
       "1655  San Francisco Giants  ...        25.0   out to Centerfield  Cloudy   \n",
       "2005        Boston Red Sox  ...        25.0    out to Rightfield  Cloudy   \n",
       "\n",
       "     total_runs game_hours_dec          season  home_team_win  home_team_loss  \\\n",
       "1655         16       3.633333  regular season              1               0   \n",
       "2005         19       3.666667  regular season              1               0   \n",
       "\n",
       "     home_team_outcome   num  \n",
       "1655               Win  1655  \n",
       "2005               Win  2005  \n",
       "\n",
       "[2 rows x 27 columns]"
      ]
     },
     "execution_count": 286,
     "metadata": {},
     "output_type": "execute_result"
    }
   ],
   "source": [
    "ds_regular_season = dataset[dataset.season =='regular season'] # фильтруем регулярный сезон\n",
    "ds_regular_season[ds_regular_season['wind_speed'] == ds_regular_season['wind_speed'].max()]\n",
    "\n",
    "#с группировкой по типам сезона\n",
    "#dataset.groupby('season').apply(lambda x: x[x.wind_speed == x.wind_speed.max()])"
   ]
  },
  {
   "cell_type": "markdown",
   "metadata": {
    "collapsed": false,
    "pycharm": {
     "name": "#%% md\n"
    }
   },
   "source": [
    "# 10. В какой игре получили максимальное количество очков?"
   ]
  },
  {
   "cell_type": "code",
   "execution_count": 287,
   "metadata": {
    "collapsed": false,
    "pycharm": {
     "name": "#%%\n"
    }
   },
   "outputs": [
    {
     "data": {
      "text/html": [
       "<div>\n",
       "<style scoped>\n",
       "    .dataframe tbody tr th:only-of-type {\n",
       "        vertical-align: middle;\n",
       "    }\n",
       "\n",
       "    .dataframe tbody tr th {\n",
       "        vertical-align: top;\n",
       "    }\n",
       "\n",
       "    .dataframe thead th {\n",
       "        text-align: right;\n",
       "    }\n",
       "</style>\n",
       "<table border=\"1\" class=\"dataframe\">\n",
       "  <thead>\n",
       "    <tr style=\"text-align: right;\">\n",
       "      <th></th>\n",
       "      <th>Unnamed: 0</th>\n",
       "      <th>attendance</th>\n",
       "      <th>away_team</th>\n",
       "      <th>away_team_errors</th>\n",
       "      <th>away_team_hits</th>\n",
       "      <th>away_team_runs</th>\n",
       "      <th>date</th>\n",
       "      <th>field_type</th>\n",
       "      <th>game_type</th>\n",
       "      <th>home_team</th>\n",
       "      <th>...</th>\n",
       "      <th>wind_speed</th>\n",
       "      <th>wind_direction</th>\n",
       "      <th>sky</th>\n",
       "      <th>total_runs</th>\n",
       "      <th>game_hours_dec</th>\n",
       "      <th>season</th>\n",
       "      <th>home_team_win</th>\n",
       "      <th>home_team_loss</th>\n",
       "      <th>home_team_outcome</th>\n",
       "      <th>num</th>\n",
       "    </tr>\n",
       "  </thead>\n",
       "  <tbody>\n",
       "    <tr>\n",
       "      <th>1788</th>\n",
       "      <td>1788</td>\n",
       "      <td>22588.0</td>\n",
       "      <td>Seattle Mariners</td>\n",
       "      <td>1</td>\n",
       "      <td>16</td>\n",
       "      <td>16</td>\n",
       "      <td>2016-06-02</td>\n",
       "      <td>on grass</td>\n",
       "      <td>Night Game</td>\n",
       "      <td>San Diego Padres</td>\n",
       "      <td>...</td>\n",
       "      <td>10.0</td>\n",
       "      <td>out to Rightfield</td>\n",
       "      <td>Sunny</td>\n",
       "      <td>29</td>\n",
       "      <td>3.833333</td>\n",
       "      <td>regular season</td>\n",
       "      <td>0</td>\n",
       "      <td>1</td>\n",
       "      <td>Loss</td>\n",
       "      <td>1788</td>\n",
       "    </tr>\n",
       "  </tbody>\n",
       "</table>\n",
       "<p>1 rows × 27 columns</p>\n",
       "</div>"
      ],
      "text/plain": [
       "      Unnamed: 0  attendance         away_team  away_team_errors  \\\n",
       "1788        1788     22588.0  Seattle Mariners                 1   \n",
       "\n",
       "      away_team_hits  away_team_runs        date field_type   game_type  \\\n",
       "1788              16              16  2016-06-02   on grass  Night Game   \n",
       "\n",
       "             home_team  ...  wind_speed      wind_direction    sky total_runs  \\\n",
       "1788  San Diego Padres  ...        10.0   out to Rightfield  Sunny         29   \n",
       "\n",
       "     game_hours_dec          season  home_team_win  home_team_loss  \\\n",
       "1788       3.833333  regular season              0               1   \n",
       "\n",
       "     home_team_outcome   num  \n",
       "1788              Loss  1788  \n",
       "\n",
       "[1 rows x 27 columns]"
      ]
     },
     "execution_count": 287,
     "metadata": {},
     "output_type": "execute_result"
    }
   ],
   "source": [
    "ds_regular_season = dataset[dataset.season =='regular season'] # фильтруем регулярный сезон\n",
    "ds_regular_season[ds_regular_season.total_runs == ds_regular_season.total_runs.max()]"
   ]
  },
  {
   "cell_type": "markdown",
   "metadata": {
    "collapsed": false,
    "pycharm": {
     "name": "#%% md\n"
    }
   },
   "source": [
    "# 11. Какая игра содержала максимальное количество ошибок домашней команды?"
   ]
  },
  {
   "cell_type": "code",
   "execution_count": 288,
   "metadata": {
    "collapsed": false,
    "pycharm": {
     "name": "#%%\n"
    }
   },
   "outputs": [
    {
     "data": {
      "text/html": [
       "<div>\n",
       "<style scoped>\n",
       "    .dataframe tbody tr th:only-of-type {\n",
       "        vertical-align: middle;\n",
       "    }\n",
       "\n",
       "    .dataframe tbody tr th {\n",
       "        vertical-align: top;\n",
       "    }\n",
       "\n",
       "    .dataframe thead th {\n",
       "        text-align: right;\n",
       "    }\n",
       "</style>\n",
       "<table border=\"1\" class=\"dataframe\">\n",
       "  <thead>\n",
       "    <tr style=\"text-align: right;\">\n",
       "      <th></th>\n",
       "      <th>Unnamed: 0</th>\n",
       "      <th>attendance</th>\n",
       "      <th>away_team</th>\n",
       "      <th>away_team_errors</th>\n",
       "      <th>away_team_hits</th>\n",
       "      <th>away_team_runs</th>\n",
       "      <th>date</th>\n",
       "      <th>field_type</th>\n",
       "      <th>game_type</th>\n",
       "      <th>home_team</th>\n",
       "      <th>...</th>\n",
       "      <th>wind_speed</th>\n",
       "      <th>wind_direction</th>\n",
       "      <th>sky</th>\n",
       "      <th>total_runs</th>\n",
       "      <th>game_hours_dec</th>\n",
       "      <th>season</th>\n",
       "      <th>home_team_win</th>\n",
       "      <th>home_team_loss</th>\n",
       "      <th>home_team_outcome</th>\n",
       "      <th>num</th>\n",
       "    </tr>\n",
       "  </thead>\n",
       "  <tbody>\n",
       "    <tr>\n",
       "      <th>1178</th>\n",
       "      <td>1178</td>\n",
       "      <td>22581.0</td>\n",
       "      <td>Arizona Diamondbacks</td>\n",
       "      <td>1</td>\n",
       "      <td>11</td>\n",
       "      <td>8</td>\n",
       "      <td>2016-07-27</td>\n",
       "      <td>on grass</td>\n",
       "      <td>Night Game</td>\n",
       "      <td>Milwaukee Brewers</td>\n",
       "      <td>...</td>\n",
       "      <td>9.0</td>\n",
       "      <td>in from Leftfield</td>\n",
       "      <td>Cloudy</td>\n",
       "      <td>9</td>\n",
       "      <td>2.933333</td>\n",
       "      <td>regular season</td>\n",
       "      <td>0</td>\n",
       "      <td>1</td>\n",
       "      <td>Loss</td>\n",
       "      <td>1178</td>\n",
       "    </tr>\n",
       "  </tbody>\n",
       "</table>\n",
       "<p>1 rows × 27 columns</p>\n",
       "</div>"
      ],
      "text/plain": [
       "      Unnamed: 0  attendance             away_team  away_team_errors  \\\n",
       "1178        1178     22581.0  Arizona Diamondbacks                 1   \n",
       "\n",
       "      away_team_hits  away_team_runs        date field_type   game_type  \\\n",
       "1178              11               8  2016-07-27   on grass  Night Game   \n",
       "\n",
       "              home_team  ...  wind_speed      wind_direction     sky  \\\n",
       "1178  Milwaukee Brewers  ...         9.0   in from Leftfield  Cloudy   \n",
       "\n",
       "     total_runs game_hours_dec          season  home_team_win  home_team_loss  \\\n",
       "1178          9       2.933333  regular season              0               1   \n",
       "\n",
       "     home_team_outcome   num  \n",
       "1178              Loss  1178  \n",
       "\n",
       "[1 rows x 27 columns]"
      ]
     },
     "execution_count": 288,
     "metadata": {},
     "output_type": "execute_result"
    }
   ],
   "source": [
    "ds_regular_season = dataset[dataset.season =='regular season'] # фильтруем регулярный сезон\n",
    "ds_regular_season[ds_regular_season.home_team_errors == ds_regular_season.home_team_errors.max()]\n"
   ]
  },
  {
   "cell_type": "markdown",
   "metadata": {
    "collapsed": false,
    "pycharm": {
     "name": "#%% md\n"
    }
   },
   "source": [
    "# 12. В какой игре было максимальное количество ранов?"
   ]
  },
  {
   "cell_type": "code",
   "execution_count": 289,
   "metadata": {
    "collapsed": false,
    "pycharm": {
     "name": "#%%\n"
    }
   },
   "outputs": [
    {
     "name": "stderr",
     "output_type": "stream",
     "text": [
      "/tmp/ipykernel_5248/2390823501.py:4: SettingWithCopyWarning: \n",
      "A value is trying to be set on a copy of a slice from a DataFrame.\n",
      "Try using .loc[row_indexer,col_indexer] = value instead\n",
      "\n",
      "See the caveats in the documentation: https://pandas.pydata.org/pandas-docs/stable/user_guide/indexing.html#returning-a-view-versus-a-copy\n",
      "  ds_regular_season['total_hits'] = ds_regular_season.home_team_hits + ds_regular_season.away_team_hits #добавил колонку с общим количеством хитов для удобства\n"
     ]
    },
    {
     "data": {
      "text/html": [
       "<div>\n",
       "<style scoped>\n",
       "    .dataframe tbody tr th:only-of-type {\n",
       "        vertical-align: middle;\n",
       "    }\n",
       "\n",
       "    .dataframe tbody tr th {\n",
       "        vertical-align: top;\n",
       "    }\n",
       "\n",
       "    .dataframe thead th {\n",
       "        text-align: right;\n",
       "    }\n",
       "</style>\n",
       "<table border=\"1\" class=\"dataframe\">\n",
       "  <thead>\n",
       "    <tr style=\"text-align: right;\">\n",
       "      <th></th>\n",
       "      <th>Unnamed: 0</th>\n",
       "      <th>attendance</th>\n",
       "      <th>away_team</th>\n",
       "      <th>away_team_errors</th>\n",
       "      <th>away_team_hits</th>\n",
       "      <th>away_team_runs</th>\n",
       "      <th>date</th>\n",
       "      <th>field_type</th>\n",
       "      <th>game_type</th>\n",
       "      <th>home_team</th>\n",
       "      <th>...</th>\n",
       "      <th>wind_direction</th>\n",
       "      <th>sky</th>\n",
       "      <th>total_runs</th>\n",
       "      <th>game_hours_dec</th>\n",
       "      <th>season</th>\n",
       "      <th>home_team_win</th>\n",
       "      <th>home_team_loss</th>\n",
       "      <th>home_team_outcome</th>\n",
       "      <th>num</th>\n",
       "      <th>total_hits</th>\n",
       "    </tr>\n",
       "  </thead>\n",
       "  <tbody>\n",
       "    <tr>\n",
       "      <th>1413</th>\n",
       "      <td>1413</td>\n",
       "      <td>36253.0</td>\n",
       "      <td>Texas Rangers</td>\n",
       "      <td>0</td>\n",
       "      <td>16</td>\n",
       "      <td>5</td>\n",
       "      <td>2016-07-04</td>\n",
       "      <td>on grass</td>\n",
       "      <td>Day Game</td>\n",
       "      <td>Boston Red Sox</td>\n",
       "      <td>...</td>\n",
       "      <td>out to Centerfield</td>\n",
       "      <td>Cloudy</td>\n",
       "      <td>17</td>\n",
       "      <td>3.666667</td>\n",
       "      <td>regular season</td>\n",
       "      <td>1</td>\n",
       "      <td>0</td>\n",
       "      <td>Win</td>\n",
       "      <td>1413</td>\n",
       "      <td>37</td>\n",
       "    </tr>\n",
       "  </tbody>\n",
       "</table>\n",
       "<p>1 rows × 28 columns</p>\n",
       "</div>"
      ],
      "text/plain": [
       "      Unnamed: 0  attendance      away_team  away_team_errors  away_team_hits  \\\n",
       "1413        1413     36253.0  Texas Rangers                 0              16   \n",
       "\n",
       "      away_team_runs        date field_type game_type       home_team  ...  \\\n",
       "1413               5  2016-07-04   on grass  Day Game  Boston Red Sox  ...   \n",
       "\n",
       "           wind_direction     sky  total_runs game_hours_dec          season  \\\n",
       "1413   out to Centerfield  Cloudy          17       3.666667  regular season   \n",
       "\n",
       "     home_team_win  home_team_loss  home_team_outcome   num total_hits  \n",
       "1413             1               0                Win  1413         37  \n",
       "\n",
       "[1 rows x 28 columns]"
      ]
     },
     "execution_count": 289,
     "metadata": {},
     "output_type": "execute_result"
    }
   ],
   "source": [
    "#вместо ранов считаем хиты\n",
    "ds_regular_season = dataset[dataset.season =='regular season'] # фильтруем регулярный сезон\n",
    "#total_hits = dataset.home_team_hits + dataset.away_team_hits\n",
    "ds_regular_season['total_hits'] = ds_regular_season.home_team_hits + ds_regular_season.away_team_hits #добавил колонку с общим количеством хитов для удобства \n",
    "ds_regular_season[ds_regular_season.total_hits == ds_regular_season.total_hits.max()]\n"
   ]
  },
  {
   "cell_type": "markdown",
   "metadata": {
    "collapsed": false,
    "pycharm": {
     "name": "#%% md\n"
    }
   },
   "source": [
    "# 13. Выведите количество игр которая сыграла каждая команда в данном сезоне?"
   ]
  },
  {
   "cell_type": "code",
   "execution_count": 290,
   "metadata": {
    "collapsed": false,
    "pycharm": {
     "name": "#%%\n"
    }
   },
   "outputs": [
    {
     "data": {
      "text/plain": [
       "away_team\n",
       "Arizona Diamondbacks    162\n",
       "Atlanta Braves          161\n",
       "Baltimore Orioles       162\n",
       "Boston Red Sox          162\n",
       "Chicago Cubs            162\n",
       "                       ... \n",
       "St. Louis Cardinals     162\n",
       "Tampa Bay Rays          162\n",
       "Texas Rangers           162\n",
       "Toronto Blue Jays       162\n",
       "Washington Nationals    162\n",
       "Name: num, Length: 30, dtype: int64"
      ]
     },
     "execution_count": 290,
     "metadata": {},
     "output_type": "execute_result"
    }
   ],
   "source": [
    "ds_regular_season = dataset[dataset.season =='regular season'] # фильтруем регулярный сезон\n",
    "(ds_regular_season.groupby('away_team').count() + ds_regular_season.groupby('home_team').count())['num']\n",
    "\n",
    "\n",
    "\n"
   ]
  },
  {
   "cell_type": "markdown",
   "metadata": {
    "collapsed": false,
    "pycharm": {
     "name": "#%% md\n"
    }
   },
   "source": [
    "# 14. Какая команда выиграла наибольшое количество матчей в сезоне? (Будьте внимательны с типом матча в сезоне - season)."
   ]
  },
  {
   "cell_type": "code",
   "execution_count": 291,
   "metadata": {
    "collapsed": false,
    "pycharm": {
     "name": "#%%\n"
    }
   },
   "outputs": [
    {
     "data": {
      "text/plain": [
       "away_team\n",
       "Chicago Cubs    103\n",
       "Name: away_team, dtype: int64"
      ]
     },
     "execution_count": 291,
     "metadata": {},
     "output_type": "execute_result"
    }
   ],
   "source": [
    "# Учитываем только регулярный сезон  так как в Slack так написали\n",
    "ds_regular_season = dataset[dataset.season=='regular season'] # фильтруем регулярный сезон\n",
    "home_team_win = ds_regular_season.groupby('home_team').apply(lambda x: x[(x.home_team_win == 1) & (x.home_team_loss == 0)].count())  # находим число побед команды, когда она играла у себя дома\n",
    "away_team_win = ds_regular_season.groupby('away_team').apply(lambda x: x[(x.home_team_win == 0) & (x.home_team_loss == 1)].count())  # находим число побед команды, когда она играла в гостях\n",
    "max_team_win = away_team_win.add(home_team_win) # складываем результаты двух предыдущих датафреймов\n",
    "max_team_win[max_team_win.num == max_team_win.num.max()]['away_team']   # отображаем только ту команду, у которой наибольшее количество побед в гостях и дома. \n"
   ]
  },
  {
   "cell_type": "markdown",
   "metadata": {
    "collapsed": false,
    "pycharm": {
     "name": "#%% md\n"
    }
   },
   "source": [
    "# 15. Какая команда выиграла наибольшее количество домашних матчей в сезоне?"
   ]
  },
  {
   "cell_type": "code",
   "execution_count": 292,
   "metadata": {
    "collapsed": false,
    "pycharm": {
     "name": "#%%\n"
    }
   },
   "outputs": [
    {
     "data": {
      "text/plain": [
       "home_team\n",
       "Chicago Cubs    57\n",
       "Name: num, dtype: int64"
      ]
     },
     "execution_count": 292,
     "metadata": {},
     "output_type": "execute_result"
    }
   ],
   "source": [
    "# Учитываем только регулярный сезон  так как в Slack так написали\n",
    "ds_regular_season = dataset[dataset.season=='regular season'] # фильтруем регулярный сезон\n",
    "home_team_win = ds_regular_season.groupby('home_team').apply(lambda x: x[(x.home_team_win == 1) & (x.home_team_loss == 0)].count())  # находим число побед команды, когда она играла у себя дома\n",
    "home_team_win[home_team_win.num == home_team_win.num.max()]['num']   # отображаем только ту команду, у которой наибольшее количество побед  дома. Используем ранее добавленную колонку num для отображения наименования команды и числа поражений"
   ]
  },
  {
   "cell_type": "markdown",
   "metadata": {
    "collapsed": false,
    "pycharm": {
     "name": "#%% md\n"
    }
   },
   "source": [
    "# 16. Какая команда выиграла наибольшее количество гостевых матчей в сезоне?"
   ]
  },
  {
   "cell_type": "code",
   "execution_count": 293,
   "metadata": {
    "collapsed": false,
    "pycharm": {
     "name": "#%%\n"
    }
   },
   "outputs": [
    {
     "data": {
      "text/plain": [
       "away_team\n",
       "St. Louis Cardinals    48\n",
       "Name: num, dtype: int64"
      ]
     },
     "execution_count": 293,
     "metadata": {},
     "output_type": "execute_result"
    }
   ],
   "source": [
    "# Учитываем только регулярный сезон так как в Slack так написали\n",
    "ds_regular_season = dataset[dataset.season=='regular season'] # фильтруем регулярный сезон\n",
    "away_team_win = ds_regular_season.groupby('away_team').apply(lambda x: x[(x.home_team_win == 0) & (x.home_team_loss == 1) ].count())  # находим число побед команды, когда она играла в гостях\n",
    "away_team_win[away_team_win.num == away_team_win.num.max()]['num']   # отображаем только ту команду, у которой наибольшее количество побед в гостях. Используем ранее добавленную колонку num для отображения наименования команды и числа поражений "
   ]
  },
  {
   "cell_type": "markdown",
   "metadata": {
    "collapsed": false,
    "pycharm": {
     "name": "#%% md\n"
    }
   },
   "source": [
    "# 17. Какая команда проиграла наибольшее количество матчей в сезоне?"
   ]
  },
  {
   "cell_type": "code",
   "execution_count": 298,
   "metadata": {
    "collapsed": false,
    "pycharm": {
     "name": "#%%\n"
    }
   },
   "outputs": [
    {
     "data": {
      "text/plain": [
       "away_team\n",
       "Minnesota Twins    103\n",
       "Name: num, dtype: int64"
      ]
     },
     "execution_count": 298,
     "metadata": {},
     "output_type": "execute_result"
    }
   ],
   "source": [
    "# Учитываем только регулярный сезон так как в Slack так написали\n",
    "ds_regular_season = dataset[dataset.season=='regular season'] # фильтруем регулярный сезон\n",
    "home_team_loss = ds_regular_season.groupby('home_team').apply(lambda x: x[(x.home_team_win == 0) & (x.home_team_loss == 1)].count())  # находим число поражений команды, когда она играла у себя дома\n",
    "away_team_loss = ds_regular_season.groupby('away_team').apply(lambda x: x[(x.home_team_win == 1) & (x.home_team_loss == 0)].count())  # находим число поражений команды, когда она играла в гостях\n",
    "max_team_loss = away_team_loss.add(home_team_loss) # складываем результаты двух предыдухих датафреймов\n",
    "max_team_loss[max_team_loss.num == max_team_loss.num.max()]['num']   # отображаем только ту команду, у которой наибольшее количество поражений в гостях и дома. Используем ранее добавленную колонку num для отображения наименования команды и числа поражений\n"
   ]
  },
  {
   "cell_type": "markdown",
   "metadata": {
    "collapsed": false,
    "pycharm": {
     "name": "#%% md\n"
    }
   },
   "source": [
    "# 18. Зависит ли выигрышь от количества посетителей матча? (https://pandas.pydata.org/docs/reference/api/pandas.DataFrame.cov.html)"
   ]
  },
  {
   "cell_type": "code",
   "execution_count": 299,
   "metadata": {
    "collapsed": false,
    "pycharm": {
     "name": "#%%\n"
    }
   },
   "outputs": [
    {
     "name": "stdout",
     "output_type": "stream",
     "text": [
      "Зависимость слабая\n"
     ]
    }
   ],
   "source": [
    "# Учитываем только регулярный сезон так как в Slack так написали\n",
    "ds_regular_season = dataset[dataset.season=='regular season'] # фильтруем регулярный сезон\n",
    "ds_regular_season_corr = ds_regular_season[['attendance','home_team_win','home_team_loss']].corr()  #смотрим корреляции\n",
    "ds_regular_season_corr\n",
    "if ds_regular_season_corr['attendance'][1] == 0:\n",
    "    print('Не зависит')\n",
    "elif (ds_regular_season_corr['attendance'][1] >= -0.2 and ds_regular_season_corr['attendance'][1] < 0) or (ds_regular_season_corr['attendance'][1] > 0 and ds_regular_season_corr['attendance'][1] <= 0.2):\n",
    "    print('Зависимость слабая')\n",
    "elif (ds_regular_season_corr['attendance'][1] >= -0.4 and ds_regular_season_corr['attendance'][1] < -0.2) or (ds_regular_season_corr['attendance'][1] > 0.2 and ds_regular_season_corr['attendance'][1] <= 0.4):\n",
    "    print('Зависимость умеренная')\n",
    "elif (ds_regular_season_corr['attendance'][1] >= -0.6 and ds_regular_season_corr['attendance'][1] < -0.4) or (ds_regular_season_corr['attendance'][1] > 0.4 and ds_regular_season_corr['attendance'][1] <= 0.6):\n",
    "    print('Зависимость сильная')    \n",
    "elif (ds_regular_season_corr['attendance'][1] <= -0.6) or (ds_regular_season_corr['attendance'][1] > 0.6):\n",
    "    print('Зависимость очень сильная')        \n"
   ]
  },
  {
   "cell_type": "markdown",
   "metadata": {
    "collapsed": false,
    "pycharm": {
     "name": "#%% md\n"
    }
   },
   "source": [
    "# 19. Правда ли что большинство проигрышных домашних матчей приходятся на Субботу и Воскресенье?"
   ]
  },
  {
   "cell_type": "code",
   "execution_count": 300,
   "metadata": {
    "collapsed": false,
    "pycharm": {
     "name": "#%%\n"
    }
   },
   "outputs": [
    {
     "name": "stdout",
     "output_type": "stream",
     "text": [
      "Не правда, большинство проигрышных домашних матчей приходится с понедельника по пятницу включительно\n"
     ]
    }
   ],
   "source": [
    "# Учитываем только регулярный сезон  так как в Slack так написали\n",
    "ds_regular_season = dataset[dataset.season=='regular season'] # фильтруем регулярный сезон\n",
    "home_team_loss = ds_regular_season.groupby(['home_team','day_of_week']).apply(lambda x: x[(x.home_team_win == 0) & (x.home_team_loss == 1)].count()) # находим число поражений команды, когда она играла у себя дома и группируем по дням.\n",
    "pd.options.display.max_rows = 100  # чтобы 100 строк отображалось\n",
    "home_team_loss['num'].head(100) # смотрим распределение количества проигравших матчей по дням и командам\n",
    "\n",
    "#количество проигрышных матчей с Пн по Пт\n",
    "home_team_loss_count_weekdays = ds_regular_season[(ds_regular_season.home_team_win == 0) & (ds_regular_season.home_team_loss == 1) & ( ds_regular_season.day_of_week.isin(['Monday','Tuesday','Wednesday','Thursday','Friday']) )].count()\n",
    "#home_team_loss_count_weekdays\n",
    "\n",
    "#количество проигрышных матчей в Сб и Вскр\n",
    "home_team_loss_count_weekend = ds_regular_season[(ds_regular_season.home_team_win == 0) & (ds_regular_season.home_team_loss == 1) & ( ds_regular_season.day_of_week.isin(['Saturday','Sunday']) )].count()\n",
    "#home_team_loss_count_weekend\n",
    "\n",
    "if home_team_loss_count_weekend.values[0] > home_team_loss_count_weekdays.values[0]:\n",
    "    print('Правда')\n",
    "elif home_team_loss_count_weekend.values[0] == home_team_loss_count_weekdays.values[0]:\n",
    "    print('Не правда, одинаковое количество')\n",
    "elif home_team_loss_count_weekend.values[0] < home_team_loss_count_weekdays.values[0]:\n",
    "    print('Не правда, большинство проигрышных домашних матчей приходится с понедельника по пятницу включительно')\n",
    "\n",
    "\n"
   ]
  },
  {
   "cell_type": "markdown",
   "metadata": {
    "collapsed": false,
    "pycharm": {
     "name": "#%% md\n"
    }
   },
   "source": [
    "# 20. Правда ли что наибольшее количество ранов происходит в холодную погоду? (Холодной погодой считается погода ниже 0 градусов)"
   ]
  },
  {
   "cell_type": "code",
   "execution_count": 301,
   "metadata": {
    "collapsed": false,
    "pycharm": {
     "name": "#%%\n"
    }
   },
   "outputs": [
    {
     "name": "stdout",
     "output_type": "stream",
     "text": [
      "Не правда, наибольшее количество ранов происходит в теплую погоду\n"
     ]
    }
   ],
   "source": [
    "# Учитываем только регулярный сезон  так как в Slack так написали\n",
    "ds_regular_season = dataset[dataset.season == 'regular season'] # фильтруем регулярный сезон\n",
    "ds_regular_season = dataset[dataset.season == 'regular season'] # фильтруем регулярный сезон\n",
    "ds_regular_season_total_runs = ds_regular_season.groupby(['temperature']).sum() \n",
    "pd.options.display.max_rows = 100  # чтобы 100 строк отображалось\n",
    "ds_regular_season_total_runs.total_runs.head(100) # смотрим распределение количество ранов по температуре\n",
    "\n",
    "#сумма ранов в теплую погоду (>=32 по фаренгейту это >=0 цельсиум)\n",
    "total_runs_hot = ds_regular_season[ds_regular_season.temperature >= 32].sum()\n",
    "total_runs_hot['total_runs']\n",
    "\n",
    "\n",
    "#сумма ранов в теплую погоду (>=32 по фаренгейту это >=0 цельсиум)\n",
    "total_runs_cold = ds_regular_season[ds_regular_season.temperature < 32].sum()\n",
    "total_runs_cold['total_runs']\n",
    "\n",
    "\n",
    "if total_runs_cold['total_runs'] > total_runs_hot['total_runs']:\n",
    "    print('Правда')\n",
    "elif total_runs_cold['total_runs'] == total_runs_hot['total_runs']:\n",
    "    print('Не правда, одинаковое количество')\n",
    "elif total_runs_cold['total_runs'] < total_runs_hot['total_runs']:\n",
    "    print('Не правда, наибольшее количество ранов происходит в теплую погоду')\n"
   ]
  }
 ],
 "metadata": {
  "kernelspec": {
   "display_name": "Python 3.10.4 ('pythonProject')",
   "language": "python",
   "name": "python3"
  },
  "language_info": {
   "codemirror_mode": {
    "name": "ipython",
    "version": 3
   },
   "file_extension": ".py",
   "mimetype": "text/x-python",
   "name": "python",
   "nbconvert_exporter": "python",
   "pygments_lexer": "ipython3",
   "version": "3.10.4"
  },
  "vscode": {
   "interpreter": {
    "hash": "a04b0e96a39001dcde3ef110d9aab7edc50a87692e5c15032a80ed4296751e1d"
   }
  }
 },
 "nbformat": 4,
 "nbformat_minor": 0
}
