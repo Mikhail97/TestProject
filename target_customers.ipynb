{
 "cells": [
  {
   "cell_type": "code",
   "execution_count": 358,
   "metadata": {
    "collapsed": true,
    "pycharm": {
     "name": "#%%\n"
    }
   },
   "outputs": [
    {
     "data": {
      "text/html": [
       "        <script type=\"text/javascript\">\n",
       "        window.PlotlyConfig = {MathJaxConfig: 'local'};\n",
       "        if (window.MathJax && window.MathJax.Hub && window.MathJax.Hub.Config) {window.MathJax.Hub.Config({SVG: {font: \"STIX-Web\"}});}\n",
       "        if (typeof require !== 'undefined') {\n",
       "        require.undef(\"plotly\");\n",
       "        requirejs.config({\n",
       "            paths: {\n",
       "                'plotly': ['https://cdn.plot.ly/plotly-2.12.1.min']\n",
       "            }\n",
       "        });\n",
       "        require(['plotly'], function(Plotly) {\n",
       "            window._Plotly = Plotly;\n",
       "        });\n",
       "        }\n",
       "        </script>\n",
       "        "
      ]
     },
     "metadata": {},
     "output_type": "display_data"
    }
   ],
   "source": [
    "import pandas as pd\n",
    "import matplotlib.pyplot as plt\n",
    "from plotly.offline import init_notebook_mode, iplot\n",
    "import plotly\n",
    "import plotly.graph_objs as go\n",
    "\n",
    "init_notebook_mode(connected=True)"
   ]
  },
  {
   "cell_type": "code",
   "execution_count": 302,
   "metadata": {},
   "outputs": [
    {
     "data": {
      "text/html": [
       "<div>\n",
       "<style scoped>\n",
       "    .dataframe tbody tr th:only-of-type {\n",
       "        vertical-align: middle;\n",
       "    }\n",
       "\n",
       "    .dataframe tbody tr th {\n",
       "        vertical-align: top;\n",
       "    }\n",
       "\n",
       "    .dataframe thead th {\n",
       "        text-align: right;\n",
       "    }\n",
       "</style>\n",
       "<table border=\"1\" class=\"dataframe\">\n",
       "  <thead>\n",
       "    <tr style=\"text-align: right;\">\n",
       "      <th></th>\n",
       "      <th>ID</th>\n",
       "      <th>Building</th>\n",
       "      <th>Year of sale</th>\n",
       "      <th>Month of sale</th>\n",
       "      <th>Type of property</th>\n",
       "      <th>Property number</th>\n",
       "      <th>Area (ft.)</th>\n",
       "      <th>Price</th>\n",
       "      <th>Status</th>\n",
       "      <th>Customer ID</th>\n",
       "      <th>...</th>\n",
       "      <th>Y</th>\n",
       "      <th>M</th>\n",
       "      <th>D</th>\n",
       "      <th>Gender</th>\n",
       "      <th>Country</th>\n",
       "      <th>State</th>\n",
       "      <th>Purpose</th>\n",
       "      <th>Deal satisfaction</th>\n",
       "      <th>Mortgage</th>\n",
       "      <th>Source</th>\n",
       "    </tr>\n",
       "  </thead>\n",
       "  <tbody>\n",
       "    <tr>\n",
       "      <th>0</th>\n",
       "      <td>1030</td>\n",
       "      <td>1</td>\n",
       "      <td>2005</td>\n",
       "      <td>11</td>\n",
       "      <td>Apartment</td>\n",
       "      <td>30</td>\n",
       "      <td>743.09</td>\n",
       "      <td>$ 246,172.68</td>\n",
       "      <td>Sold</td>\n",
       "      <td>C0028</td>\n",
       "      <td>...</td>\n",
       "      <td>1986.0</td>\n",
       "      <td>6.0</td>\n",
       "      <td>21.0</td>\n",
       "      <td>F</td>\n",
       "      <td>USA</td>\n",
       "      <td>California</td>\n",
       "      <td>Home</td>\n",
       "      <td>5</td>\n",
       "      <td>No</td>\n",
       "      <td>Website</td>\n",
       "    </tr>\n",
       "    <tr>\n",
       "      <th>1</th>\n",
       "      <td>1029</td>\n",
       "      <td>1</td>\n",
       "      <td>2005</td>\n",
       "      <td>10</td>\n",
       "      <td>Apartment</td>\n",
       "      <td>29</td>\n",
       "      <td>756.21</td>\n",
       "      <td>$ 246,331.90</td>\n",
       "      <td>Sold</td>\n",
       "      <td>C0027</td>\n",
       "      <td>...</td>\n",
       "      <td>1983.0</td>\n",
       "      <td>2.0</td>\n",
       "      <td>24.0</td>\n",
       "      <td>F</td>\n",
       "      <td>USA</td>\n",
       "      <td>California</td>\n",
       "      <td>Home</td>\n",
       "      <td>5</td>\n",
       "      <td>No</td>\n",
       "      <td>Website</td>\n",
       "    </tr>\n",
       "    <tr>\n",
       "      <th>2</th>\n",
       "      <td>2002</td>\n",
       "      <td>2</td>\n",
       "      <td>2007</td>\n",
       "      <td>7</td>\n",
       "      <td>Apartment</td>\n",
       "      <td>2</td>\n",
       "      <td>587.28</td>\n",
       "      <td>$ 209,280.91</td>\n",
       "      <td>Sold</td>\n",
       "      <td>C0112</td>\n",
       "      <td>...</td>\n",
       "      <td>1985.0</td>\n",
       "      <td>12.0</td>\n",
       "      <td>27.0</td>\n",
       "      <td>M</td>\n",
       "      <td>USA</td>\n",
       "      <td>California</td>\n",
       "      <td>Home</td>\n",
       "      <td>1</td>\n",
       "      <td>Yes</td>\n",
       "      <td>Client</td>\n",
       "    </tr>\n",
       "    <tr>\n",
       "      <th>3</th>\n",
       "      <td>2031</td>\n",
       "      <td>2</td>\n",
       "      <td>2007</td>\n",
       "      <td>12</td>\n",
       "      <td>Apartment</td>\n",
       "      <td>31</td>\n",
       "      <td>1604.75</td>\n",
       "      <td>$ 452,667.01</td>\n",
       "      <td>Sold</td>\n",
       "      <td>C0160</td>\n",
       "      <td>...</td>\n",
       "      <td>1985.0</td>\n",
       "      <td>12.0</td>\n",
       "      <td>27.0</td>\n",
       "      <td>M</td>\n",
       "      <td>USA</td>\n",
       "      <td>California</td>\n",
       "      <td>Investment</td>\n",
       "      <td>3</td>\n",
       "      <td>Yes</td>\n",
       "      <td>Website</td>\n",
       "    </tr>\n",
       "    <tr>\n",
       "      <th>4</th>\n",
       "      <td>1049</td>\n",
       "      <td>1</td>\n",
       "      <td>2004</td>\n",
       "      <td>11</td>\n",
       "      <td>Apartment</td>\n",
       "      <td>49</td>\n",
       "      <td>1375.45</td>\n",
       "      <td>$ 467,083.31</td>\n",
       "      <td>Sold</td>\n",
       "      <td>C0014</td>\n",
       "      <td>...</td>\n",
       "      <td>1979.0</td>\n",
       "      <td>5.0</td>\n",
       "      <td>15.0</td>\n",
       "      <td>F</td>\n",
       "      <td>USA</td>\n",
       "      <td>California</td>\n",
       "      <td>Home</td>\n",
       "      <td>4</td>\n",
       "      <td>No</td>\n",
       "      <td>Agency</td>\n",
       "    </tr>\n",
       "  </tbody>\n",
       "</table>\n",
       "<p>5 rows × 25 columns</p>\n",
       "</div>"
      ],
      "text/plain": [
       "     ID  Building  Year of sale  Month of sale Type of property  \\\n",
       "0  1030         1          2005             11        Apartment   \n",
       "1  1029         1          2005             10        Apartment   \n",
       "2  2002         2          2007              7        Apartment   \n",
       "3  2031         2          2007             12        Apartment   \n",
       "4  1049         1          2004             11        Apartment   \n",
       "\n",
       "   Property number  Area (ft.)           Price  Status Customer ID  ...  \\\n",
       "0               30      743.09   $ 246,172.68    Sold        C0028  ...   \n",
       "1               29      756.21   $ 246,331.90    Sold        C0027  ...   \n",
       "2                2      587.28   $ 209,280.91    Sold        C0112  ...   \n",
       "3               31     1604.75   $ 452,667.01    Sold        C0160  ...   \n",
       "4               49     1375.45   $ 467,083.31    Sold        C0014  ...   \n",
       "\n",
       "        Y     M     D  Gender Country       State     Purpose  \\\n",
       "0  1986.0   6.0  21.0       F     USA  California        Home   \n",
       "1  1983.0   2.0  24.0       F     USA  California        Home   \n",
       "2  1985.0  12.0  27.0       M     USA  California        Home   \n",
       "3  1985.0  12.0  27.0       M     USA  California  Investment   \n",
       "4  1979.0   5.0  15.0       F     USA  California        Home   \n",
       "\n",
       "   Deal satisfaction Mortgage   Source  \n",
       "0                  5       No  Website  \n",
       "1                  5       No  Website  \n",
       "2                  1      Yes   Client  \n",
       "3                  3      Yes  Website  \n",
       "4                  4       No   Agency  \n",
       "\n",
       "[5 rows x 25 columns]"
      ]
     },
     "execution_count": 302,
     "metadata": {},
     "output_type": "execute_result"
    }
   ],
   "source": [
    "df = pd.read_csv('/home/mikhail/it-academy/модуль 2/Практическая часть/descriptive_stats/clients.csv')\n",
    "df.head()"
   ]
  },
  {
   "cell_type": "code",
   "execution_count": 303,
   "metadata": {},
   "outputs": [
    {
     "name": "stderr",
     "output_type": "stream",
     "text": [
      "/tmp/ipykernel_82589/811442121.py:3: FutureWarning: The default value of regex will change from True to False in a future version. In addition, single character regular expressions will *not* be treated as literal strings when regex=True.\n",
      "  df['Price_formating'] = df['Price'].str.replace('$','').str.strip().str.replace(',','').astype('float64')\n"
     ]
    },
    {
     "data": {
      "text/html": [
       "<div>\n",
       "<style scoped>\n",
       "    .dataframe tbody tr th:only-of-type {\n",
       "        vertical-align: middle;\n",
       "    }\n",
       "\n",
       "    .dataframe tbody tr th {\n",
       "        vertical-align: top;\n",
       "    }\n",
       "\n",
       "    .dataframe thead th {\n",
       "        text-align: right;\n",
       "    }\n",
       "</style>\n",
       "<table border=\"1\" class=\"dataframe\">\n",
       "  <thead>\n",
       "    <tr style=\"text-align: right;\">\n",
       "      <th></th>\n",
       "      <th>ID</th>\n",
       "      <th>Building</th>\n",
       "      <th>Year of sale</th>\n",
       "      <th>Month of sale</th>\n",
       "      <th>Type_of_property</th>\n",
       "      <th>Property number</th>\n",
       "      <th>Area</th>\n",
       "      <th>Price</th>\n",
       "      <th>Status</th>\n",
       "      <th>Customer</th>\n",
       "      <th>...</th>\n",
       "      <th>D</th>\n",
       "      <th>Gender</th>\n",
       "      <th>Country</th>\n",
       "      <th>State</th>\n",
       "      <th>Purpose</th>\n",
       "      <th>Deal satisfaction</th>\n",
       "      <th>Mortgage</th>\n",
       "      <th>Source</th>\n",
       "      <th>Price_formating</th>\n",
       "      <th>Area_kvm</th>\n",
       "    </tr>\n",
       "  </thead>\n",
       "  <tbody>\n",
       "    <tr>\n",
       "      <th>0</th>\n",
       "      <td>1030</td>\n",
       "      <td>1</td>\n",
       "      <td>2005</td>\n",
       "      <td>11</td>\n",
       "      <td>Apartment</td>\n",
       "      <td>30</td>\n",
       "      <td>743.09</td>\n",
       "      <td>$ 246,172.68</td>\n",
       "      <td>Sold</td>\n",
       "      <td>C0028</td>\n",
       "      <td>...</td>\n",
       "      <td>21.0</td>\n",
       "      <td>F</td>\n",
       "      <td>USA</td>\n",
       "      <td>California</td>\n",
       "      <td>Home</td>\n",
       "      <td>5</td>\n",
       "      <td>No</td>\n",
       "      <td>Website</td>\n",
       "      <td>246172.68</td>\n",
       "      <td>69.035320</td>\n",
       "    </tr>\n",
       "    <tr>\n",
       "      <th>1</th>\n",
       "      <td>1029</td>\n",
       "      <td>1</td>\n",
       "      <td>2005</td>\n",
       "      <td>10</td>\n",
       "      <td>Apartment</td>\n",
       "      <td>29</td>\n",
       "      <td>756.21</td>\n",
       "      <td>$ 246,331.90</td>\n",
       "      <td>Sold</td>\n",
       "      <td>C0027</td>\n",
       "      <td>...</td>\n",
       "      <td>24.0</td>\n",
       "      <td>F</td>\n",
       "      <td>USA</td>\n",
       "      <td>California</td>\n",
       "      <td>Home</td>\n",
       "      <td>5</td>\n",
       "      <td>No</td>\n",
       "      <td>Website</td>\n",
       "      <td>246331.90</td>\n",
       "      <td>70.254208</td>\n",
       "    </tr>\n",
       "    <tr>\n",
       "      <th>2</th>\n",
       "      <td>2002</td>\n",
       "      <td>2</td>\n",
       "      <td>2007</td>\n",
       "      <td>7</td>\n",
       "      <td>Apartment</td>\n",
       "      <td>2</td>\n",
       "      <td>587.28</td>\n",
       "      <td>$ 209,280.91</td>\n",
       "      <td>Sold</td>\n",
       "      <td>C0112</td>\n",
       "      <td>...</td>\n",
       "      <td>27.0</td>\n",
       "      <td>M</td>\n",
       "      <td>USA</td>\n",
       "      <td>California</td>\n",
       "      <td>Home</td>\n",
       "      <td>1</td>\n",
       "      <td>Yes</td>\n",
       "      <td>Client</td>\n",
       "      <td>209280.91</td>\n",
       "      <td>54.560097</td>\n",
       "    </tr>\n",
       "    <tr>\n",
       "      <th>3</th>\n",
       "      <td>2031</td>\n",
       "      <td>2</td>\n",
       "      <td>2007</td>\n",
       "      <td>12</td>\n",
       "      <td>Apartment</td>\n",
       "      <td>31</td>\n",
       "      <td>1604.75</td>\n",
       "      <td>$ 452,667.01</td>\n",
       "      <td>Sold</td>\n",
       "      <td>C0160</td>\n",
       "      <td>...</td>\n",
       "      <td>27.0</td>\n",
       "      <td>M</td>\n",
       "      <td>USA</td>\n",
       "      <td>California</td>\n",
       "      <td>Investment</td>\n",
       "      <td>3</td>\n",
       "      <td>Yes</td>\n",
       "      <td>Website</td>\n",
       "      <td>452667.01</td>\n",
       "      <td>149.086153</td>\n",
       "    </tr>\n",
       "    <tr>\n",
       "      <th>4</th>\n",
       "      <td>1049</td>\n",
       "      <td>1</td>\n",
       "      <td>2004</td>\n",
       "      <td>11</td>\n",
       "      <td>Apartment</td>\n",
       "      <td>49</td>\n",
       "      <td>1375.45</td>\n",
       "      <td>$ 467,083.31</td>\n",
       "      <td>Sold</td>\n",
       "      <td>C0014</td>\n",
       "      <td>...</td>\n",
       "      <td>15.0</td>\n",
       "      <td>F</td>\n",
       "      <td>USA</td>\n",
       "      <td>California</td>\n",
       "      <td>Home</td>\n",
       "      <td>4</td>\n",
       "      <td>No</td>\n",
       "      <td>Agency</td>\n",
       "      <td>467083.31</td>\n",
       "      <td>127.783486</td>\n",
       "    </tr>\n",
       "  </tbody>\n",
       "</table>\n",
       "<p>5 rows × 27 columns</p>\n",
       "</div>"
      ],
      "text/plain": [
       "     ID  Building  Year of sale  Month of sale Type_of_property  \\\n",
       "0  1030         1          2005             11        Apartment   \n",
       "1  1029         1          2005             10        Apartment   \n",
       "2  2002         2          2007              7        Apartment   \n",
       "3  2031         2          2007             12        Apartment   \n",
       "4  1049         1          2004             11        Apartment   \n",
       "\n",
       "   Property number     Area           Price  Status Customer  ...     D  \\\n",
       "0               30   743.09   $ 246,172.68    Sold     C0028  ...  21.0   \n",
       "1               29   756.21   $ 246,331.90    Sold     C0027  ...  24.0   \n",
       "2                2   587.28   $ 209,280.91    Sold     C0112  ...  27.0   \n",
       "3               31  1604.75   $ 452,667.01    Sold     C0160  ...  27.0   \n",
       "4               49  1375.45   $ 467,083.31    Sold     C0014  ...  15.0   \n",
       "\n",
       "  Gender Country       State     Purpose  Deal satisfaction  Mortgage  \\\n",
       "0      F     USA  California        Home                  5        No   \n",
       "1      F     USA  California        Home                  5        No   \n",
       "2      M     USA  California        Home                  1       Yes   \n",
       "3      M     USA  California  Investment                  3       Yes   \n",
       "4      F     USA  California        Home                  4        No   \n",
       "\n",
       "    Source Price_formating    Area_kvm  \n",
       "0  Website       246172.68   69.035320  \n",
       "1  Website       246331.90   70.254208  \n",
       "2   Client       209280.91   54.560097  \n",
       "3  Website       452667.01  149.086153  \n",
       "4   Agency       467083.31  127.783486  \n",
       "\n",
       "[5 rows x 27 columns]"
      ]
     },
     "execution_count": 303,
     "metadata": {},
     "output_type": "execute_result"
    }
   ],
   "source": [
    "df = df.rename({'Customer ID':'Customer','Age Interval ':'Age_Interval','Type of property':'Type_of_property','Area (ft.)':'Area','Age at time of purchase':'Age_at_time_of_purchase'},axis = 1)\n",
    "# Добавил колонку форматированный Price для сравнения цены с другими атрибутами\n",
    "df['Price_formating'] = df['Price'].str.replace('$','').str.strip().str.replace(',','').astype('float64')\n",
    "df['Area_kvm'] = df['Area']* 0.09290304\n",
    "df.head()"
   ]
  },
  {
   "cell_type": "code",
   "execution_count": 304,
   "metadata": {},
   "outputs": [
    {
     "data": {
      "text/plain": [
       "(195, 27)"
      ]
     },
     "execution_count": 304,
     "metadata": {},
     "output_type": "execute_result"
    }
   ],
   "source": [
    "df.shape # посмотрел сколько строк и колонок"
   ]
  },
  {
   "cell_type": "code",
   "execution_count": 305,
   "metadata": {},
   "outputs": [
    {
     "name": "stdout",
     "output_type": "stream",
     "text": [
      "<class 'pandas.core.frame.DataFrame'>\n",
      "RangeIndex: 195 entries, 0 to 194\n",
      "Data columns (total 27 columns):\n",
      " #   Column                   Non-Null Count  Dtype  \n",
      "---  ------                   --------------  -----  \n",
      " 0   ID                       195 non-null    int64  \n",
      " 1   Building                 195 non-null    int64  \n",
      " 2   Year of sale             195 non-null    int64  \n",
      " 3   Month of sale            195 non-null    int64  \n",
      " 4   Type_of_property         195 non-null    object \n",
      " 5   Property number          195 non-null    int64  \n",
      " 6   Area                     195 non-null    float64\n",
      " 7   Price                    195 non-null    object \n",
      " 8   Status                   195 non-null    object \n",
      " 9   Customer                 195 non-null    object \n",
      " 10  Entity                   195 non-null    object \n",
      " 11  Name                     195 non-null    object \n",
      " 12  Surname                  195 non-null    object \n",
      " 13  Age_at_time_of_purchase  178 non-null    float64\n",
      " 14  Age_Interval             178 non-null    object \n",
      " 15  Y                        178 non-null    float64\n",
      " 16  M                        178 non-null    float64\n",
      " 17  D                        178 non-null    float64\n",
      " 18  Gender                   178 non-null    object \n",
      " 19  Country                  195 non-null    object \n",
      " 20  State                    181 non-null    object \n",
      " 21  Purpose                  195 non-null    object \n",
      " 22  Deal satisfaction        195 non-null    int64  \n",
      " 23  Mortgage                 195 non-null    object \n",
      " 24  Source                   195 non-null    object \n",
      " 25  Price_formating          195 non-null    float64\n",
      " 26  Area_kvm                 195 non-null    float64\n",
      "dtypes: float64(7), int64(6), object(14)\n",
      "memory usage: 41.3+ KB\n"
     ]
    }
   ],
   "source": [
    "df.info()"
   ]
  },
  {
   "cell_type": "code",
   "execution_count": 391,
   "metadata": {},
   "outputs": [
    {
     "data": {
      "text/html": [
       "<div>\n",
       "<style scoped>\n",
       "    .dataframe tbody tr th:only-of-type {\n",
       "        vertical-align: middle;\n",
       "    }\n",
       "\n",
       "    .dataframe tbody tr th {\n",
       "        vertical-align: top;\n",
       "    }\n",
       "\n",
       "    .dataframe thead th {\n",
       "        text-align: right;\n",
       "    }\n",
       "</style>\n",
       "<table border=\"1\" class=\"dataframe\">\n",
       "  <thead>\n",
       "    <tr style=\"text-align: right;\">\n",
       "      <th></th>\n",
       "      <th>ID</th>\n",
       "      <th>Building</th>\n",
       "      <th>Year of sale</th>\n",
       "      <th>Month of sale</th>\n",
       "      <th>Property number</th>\n",
       "      <th>Area</th>\n",
       "      <th>Age_at_time_of_purchase</th>\n",
       "      <th>Y</th>\n",
       "      <th>M</th>\n",
       "      <th>D</th>\n",
       "      <th>Deal satisfaction</th>\n",
       "      <th>Price_formating</th>\n",
       "      <th>Area_kvm</th>\n",
       "    </tr>\n",
       "  </thead>\n",
       "  <tbody>\n",
       "    <tr>\n",
       "      <th>count</th>\n",
       "      <td>195.000000</td>\n",
       "      <td>195.000000</td>\n",
       "      <td>195.000000</td>\n",
       "      <td>195.000000</td>\n",
       "      <td>195.000000</td>\n",
       "      <td>195.000000</td>\n",
       "      <td>178.000000</td>\n",
       "      <td>178.000000</td>\n",
       "      <td>178.000000</td>\n",
       "      <td>178.000000</td>\n",
       "      <td>195.000000</td>\n",
       "      <td>195.000000</td>\n",
       "      <td>195.000000</td>\n",
       "    </tr>\n",
       "    <tr>\n",
       "      <th>mean</th>\n",
       "      <td>2591.425641</td>\n",
       "      <td>2.564103</td>\n",
       "      <td>2006.333333</td>\n",
       "      <td>7.271795</td>\n",
       "      <td>27.328205</td>\n",
       "      <td>899.867128</td>\n",
       "      <td>46.151685</td>\n",
       "      <td>1960.325843</td>\n",
       "      <td>6.752809</td>\n",
       "      <td>15.449438</td>\n",
       "      <td>3.605128</td>\n",
       "      <td>269434.560923</td>\n",
       "      <td>83.600392</td>\n",
       "    </tr>\n",
       "    <tr>\n",
       "      <th>std</th>\n",
       "      <td>1244.617996</td>\n",
       "      <td>1.243434</td>\n",
       "      <td>1.072941</td>\n",
       "      <td>3.378674</td>\n",
       "      <td>14.830832</td>\n",
       "      <td>261.489550</td>\n",
       "      <td>12.841692</td>\n",
       "      <td>12.835575</td>\n",
       "      <td>3.450312</td>\n",
       "      <td>8.457285</td>\n",
       "      <td>1.363355</td>\n",
       "      <td>80129.094465</td>\n",
       "      <td>24.293174</td>\n",
       "    </tr>\n",
       "    <tr>\n",
       "      <th>min</th>\n",
       "      <td>1002.000000</td>\n",
       "      <td>1.000000</td>\n",
       "      <td>2004.000000</td>\n",
       "      <td>1.000000</td>\n",
       "      <td>1.000000</td>\n",
       "      <td>410.710000</td>\n",
       "      <td>19.000000</td>\n",
       "      <td>1931.000000</td>\n",
       "      <td>1.000000</td>\n",
       "      <td>1.000000</td>\n",
       "      <td>1.000000</td>\n",
       "      <td>117564.070000</td>\n",
       "      <td>38.156208</td>\n",
       "    </tr>\n",
       "    <tr>\n",
       "      <th>25%</th>\n",
       "      <td>2003.500000</td>\n",
       "      <td>2.000000</td>\n",
       "      <td>2006.000000</td>\n",
       "      <td>4.000000</td>\n",
       "      <td>15.000000</td>\n",
       "      <td>739.860000</td>\n",
       "      <td>37.000000</td>\n",
       "      <td>1950.250000</td>\n",
       "      <td>4.000000</td>\n",
       "      <td>8.000000</td>\n",
       "      <td>3.000000</td>\n",
       "      <td>212393.250000</td>\n",
       "      <td>68.735243</td>\n",
       "    </tr>\n",
       "    <tr>\n",
       "      <th>50%</th>\n",
       "      <td>2054.000000</td>\n",
       "      <td>2.000000</td>\n",
       "      <td>2007.000000</td>\n",
       "      <td>8.000000</td>\n",
       "      <td>27.000000</td>\n",
       "      <td>785.480000</td>\n",
       "      <td>45.000000</td>\n",
       "      <td>1962.000000</td>\n",
       "      <td>6.000000</td>\n",
       "      <td>15.000000</td>\n",
       "      <td>4.000000</td>\n",
       "      <td>243052.590000</td>\n",
       "      <td>72.973480</td>\n",
       "    </tr>\n",
       "    <tr>\n",
       "      <th>75%</th>\n",
       "      <td>3048.500000</td>\n",
       "      <td>3.000000</td>\n",
       "      <td>2007.000000</td>\n",
       "      <td>10.000000</td>\n",
       "      <td>39.000000</td>\n",
       "      <td>1075.460000</td>\n",
       "      <td>55.000000</td>\n",
       "      <td>1969.750000</td>\n",
       "      <td>9.750000</td>\n",
       "      <td>23.750000</td>\n",
       "      <td>5.000000</td>\n",
       "      <td>308550.875000</td>\n",
       "      <td>99.913503</td>\n",
       "    </tr>\n",
       "    <tr>\n",
       "      <th>max</th>\n",
       "      <td>5051.000000</td>\n",
       "      <td>5.000000</td>\n",
       "      <td>2010.000000</td>\n",
       "      <td>12.000000</td>\n",
       "      <td>59.000000</td>\n",
       "      <td>1942.500000</td>\n",
       "      <td>76.000000</td>\n",
       "      <td>1986.000000</td>\n",
       "      <td>15.000000</td>\n",
       "      <td>31.000000</td>\n",
       "      <td>5.000000</td>\n",
       "      <td>529317.280000</td>\n",
       "      <td>180.464155</td>\n",
       "    </tr>\n",
       "  </tbody>\n",
       "</table>\n",
       "</div>"
      ],
      "text/plain": [
       "                ID    Building  Year of sale  Month of sale  Property number  \\\n",
       "count   195.000000  195.000000    195.000000     195.000000       195.000000   \n",
       "mean   2591.425641    2.564103   2006.333333       7.271795        27.328205   \n",
       "std    1244.617996    1.243434      1.072941       3.378674        14.830832   \n",
       "min    1002.000000    1.000000   2004.000000       1.000000         1.000000   \n",
       "25%    2003.500000    2.000000   2006.000000       4.000000        15.000000   \n",
       "50%    2054.000000    2.000000   2007.000000       8.000000        27.000000   \n",
       "75%    3048.500000    3.000000   2007.000000      10.000000        39.000000   \n",
       "max    5051.000000    5.000000   2010.000000      12.000000        59.000000   \n",
       "\n",
       "              Area  Age_at_time_of_purchase            Y           M  \\\n",
       "count   195.000000               178.000000   178.000000  178.000000   \n",
       "mean    899.867128                46.151685  1960.325843    6.752809   \n",
       "std     261.489550                12.841692    12.835575    3.450312   \n",
       "min     410.710000                19.000000  1931.000000    1.000000   \n",
       "25%     739.860000                37.000000  1950.250000    4.000000   \n",
       "50%     785.480000                45.000000  1962.000000    6.000000   \n",
       "75%    1075.460000                55.000000  1969.750000    9.750000   \n",
       "max    1942.500000                76.000000  1986.000000   15.000000   \n",
       "\n",
       "                D  Deal satisfaction  Price_formating    Area_kvm  \n",
       "count  178.000000         195.000000       195.000000  195.000000  \n",
       "mean    15.449438           3.605128    269434.560923   83.600392  \n",
       "std      8.457285           1.363355     80129.094465   24.293174  \n",
       "min      1.000000           1.000000    117564.070000   38.156208  \n",
       "25%      8.000000           3.000000    212393.250000   68.735243  \n",
       "50%     15.000000           4.000000    243052.590000   72.973480  \n",
       "75%     23.750000           5.000000    308550.875000   99.913503  \n",
       "max     31.000000           5.000000    529317.280000  180.464155  "
      ]
     },
     "execution_count": 391,
     "metadata": {},
     "output_type": "execute_result"
    }
   ],
   "source": [
    "df.describe()"
   ]
  },
  {
   "cell_type": "code",
   "execution_count": 410,
   "metadata": {},
   "outputs": [
    {
     "data": {
      "text/plain": [
       "(178, 27)"
      ]
     },
     "execution_count": 410,
     "metadata": {},
     "output_type": "execute_result"
    },
    {
     "data": {
      "image/png": "[encoded data removed]",
      "text/plain": [
       "<Figure size 720x360 with 1 Axes>"
      ]
     },
     "metadata": {
      "needs_background": "light"
     },
     "output_type": "display_data"
    }
   ],
   "source": [
    "# какой тип организации больше всего покупают недвижимость\n",
    "df_Entity_count = df.groupby('Entity').count()['ID']\n",
    "ax = df_Entity_count.plot(kind='bar', rot=0, figsize=(10,5))\n",
    "ax.set_title('Какой тип организации больше всего покупал недвижимость')\n",
    "ax.set_xlabel('Entity')\n",
    "ax.set_ylabel('Count')\n",
    "#Мы видим, что больше недвижимости покупают Individual\n",
    "Entity = df.groupby('Entity').count()['ID'].idxmax() # Individual\n",
    "df_entity = df.drop(df[df.Entity == 'Firm'].index,inplace=False)\n",
    "df_entity.shape"
   ]
  },
  {
   "cell_type": "code",
   "execution_count": 409,
   "metadata": {},
   "outputs": [
    {
     "data": {
      "image/png": "[encoded data removed]",
      "text/plain": [
       "<Figure size 720x360 with 1 Axes>"
      ]
     },
     "metadata": {
      "needs_background": "light"
     },
     "output_type": "display_data"
    }
   ],
   "source": [
    "# какое количество мужчин и женщин покупают недвижимость\n",
    "df_gender_count = df_entity.groupby('Gender').count()['ID']\n",
    "ax = df_gender_count.plot(kind='bar', rot=0, figsize=(10,5))\n",
    "ax.set_title('какой пол больше всего покупает недвижимость')\n",
    "ax.set_xlabel('Gender')\n",
    "ax.set_ylabel('Count')\n",
    "#Мы видим, что больше недвижимости покупают мужчины. Первый наш атрибут портрета это пол \"M\"\n",
    "gender = df_entity.groupby('Gender').count()['ID'].idxmax() # пол M\n",
    "#Поскольку мужчины чаще совершают сделки я оставлю в датафрейме только мужчин и далее буду использовать df_man\n",
    "df_man = df_entity.drop(df_entity[df_entity.Gender == 'F'].index,inplace=False)"
   ]
  },
  {
   "cell_type": "code",
   "execution_count": 408,
   "metadata": {},
   "outputs": [
    {
     "data": {
      "text/plain": [
       "41.0"
      ]
     },
     "execution_count": 408,
     "metadata": {},
     "output_type": "execute_result"
    },
    {
     "data": {
      "image/png": "[encoded data removed]",
      "text/plain": [
       "<Figure size 720x360 with 1 Axes>"
      ]
     },
     "metadata": {
      "needs_background": "light"
     },
     "output_type": "display_data"
    }
   ],
   "source": [
    "# какой возрастной диапазон и количество совершенных сделок\n",
    "df_Age_Interval_count = df_man.groupby('Age_Interval').count()['ID']\n",
    "ax = df_Age_Interval_count.plot(kind='bar', figsize=(10,5))\n",
    "ax.set_title('В каком возрасте наиболее часто покупают недвижимость')\n",
    "ax.set_xlabel('Age Interval')\n",
    "ax.set_ylabel('Count')\n",
    "#Наибольшее количество сделок совершается мужчинами в возрасте 36-45 лет. В датафрейме оставлю только мужчин в возрасте 36-45 лет и далее буду использовать df_man_36_45_age\n",
    "df_man_36_45_age  = df_man.drop(df_man[df_man.Age_Interval != '36-45'].index,inplace=False)\n",
    "median_age = df_man_36_45_age['Age_at_time_of_purchase'].median()\n",
    "median_age # Средний возраст\n"
   ]
  },
  {
   "cell_type": "code",
   "execution_count": 407,
   "metadata": {},
   "outputs": [
    {
     "data": {
      "text/plain": [
       "'Apartment'"
      ]
     },
     "execution_count": 407,
     "metadata": {},
     "output_type": "execute_result"
    },
    {
     "data": {
      "image/png": "[encoded data removed]",
      "text/plain": [
       "<Figure size 720x360 with 1 Axes>"
      ]
     },
     "metadata": {
      "needs_background": "light"
     },
     "output_type": "display_data"
    }
   ],
   "source": [
    "# какой тип недвижимости приобретают чаще всего\n",
    "Type_of_property_count = df_man_36_45_age.groupby('Type_of_property').count()['ID']\n",
    "ax = Type_of_property_count.plot(kind='bar',rot=0, figsize=(10,5))\n",
    "ax.set_title('какой тип недвижимости приобретают чаще всего')\n",
    "ax.set_xlabel('Type_of_property')\n",
    "ax.set_ylabel('Count')\n",
    "Type_of_property = Type_of_property_count.idxmax()\n",
    "Type_of_property #Тип квартиры"
   ]
  },
  {
   "cell_type": "code",
   "execution_count": 402,
   "metadata": {},
   "outputs": [
    {
     "name": "stderr",
     "output_type": "stream",
     "text": [
      "/tmp/ipykernel_82589/2069693871.py:5: FutureWarning:\n",
      "\n",
      "Dropping of nuisance columns in DataFrame reductions (with 'numeric_only=None') is deprecated; in a future version this will raise TypeError.  Select only valid columns before calling the reduction.\n",
      "\n"
     ]
    },
    {
     "data": {
      "text/plain": [
       "74.16263877120001"
      ]
     },
     "execution_count": 402,
     "metadata": {},
     "output_type": "execute_result"
    },
    {
     "data": {
      "image/png": "[encoded data removed]",
      "text/plain": [
       "<Figure size 432x288 with 1 Axes>"
      ]
     },
     "metadata": {
      "needs_background": "light"
     },
     "output_type": "display_data"
    }
   ],
   "source": [
    "#Посмотрим на гистограмму распределения площади дома в кв.м\n",
    "ax = df_man_36_45_age.Area_kvm.hist();\n",
    "ax.set_title('гистограмма распределения площади дома в кв.м');\n",
    "#Распределение напоминает нормальное, находим среднее по площади дома среди мужчин в возрасте 36-45 лет\n",
    "Area_kvm = df_man_36_45_age.median()['Area_kvm']\n",
    "Area_kvm #Площадь дома в кв.м. "
   ]
  },
  {
   "cell_type": "code",
   "execution_count": 411,
   "metadata": {},
   "outputs": [
    {
     "data": {
      "text/plain": [
       "238811.06"
      ]
     },
     "execution_count": 411,
     "metadata": {},
     "output_type": "execute_result"
    },
    {
     "data": {
      "image/png": "[encoded data removed]",
      "text/plain": [
       "<Figure size 432x288 with 1 Axes>"
      ]
     },
     "metadata": {
      "needs_background": "light"
     },
     "output_type": "display_data"
    }
   ],
   "source": [
    "#Посмотрим на гистограмму распределения цены \n",
    "ax = df_man_36_45_age.Price_formating.hist()\n",
    "ax.set_title('гистограмма распределения цен в $')\n",
    "Price = df_man_36_45_age.Price_formating.median()\n",
    "#df_Price = df.groupby(['Gender','Age_Interval','Type_of_property']).median() \n",
    "#Price = df_Price[df_Price.index == ('M', '36-45', 'Apartment')]['Price_formating'][0] # каков средний чек среди мужчин в возрасте 36-45 лет\n",
    "#print(df.Price_formating.median())\n",
    "Price  # Средний чек среди мужчин в возрасте 36-45 лет"
   ]
  },
  {
   "cell_type": "code",
   "execution_count": 413,
   "metadata": {},
   "outputs": [
    {
     "data": {
      "text/plain": [
       "'Home'"
      ]
     },
     "execution_count": 413,
     "metadata": {},
     "output_type": "execute_result"
    },
    {
     "data": {
      "image/png": "[encoded data removed]",
      "text/plain": [
       "<Figure size 720x360 with 1 Axes>"
      ]
     },
     "metadata": {
      "needs_background": "light"
     },
     "output_type": "display_data"
    }
   ],
   "source": [
    "#количество сделок и цель покупки\n",
    "df_Purpose_count = df_man_36_45_age.groupby('Purpose').count()['ID']\n",
    "ax = df_Purpose_count.plot(kind='bar',rot=0, figsize=(10,5))\n",
    "ax.set_title('С какой целью покупают больше недвижимости')\n",
    "ax.set_xlabel('цель покупки')\n",
    "ax.set_ylabel('Количество')\n",
    "# Мы видим, что цель покупки Home встречается больше всего\n",
    "Purpose = df_Purpose_count.idxmax()\n",
    "Purpose #Цель покупки"
   ]
  },
  {
   "cell_type": "code",
   "execution_count": 414,
   "metadata": {},
   "outputs": [
    {
     "data": {
      "text/plain": [
       "'Website'"
      ]
     },
     "execution_count": 414,
     "metadata": {},
     "output_type": "execute_result"
    },
    {
     "data": {
      "image/png": "[encoded data removed]",
      "text/plain": [
       "<Figure size 720x360 with 1 Axes>"
      ]
     },
     "metadata": {
      "needs_background": "light"
     },
     "output_type": "display_data"
    }
   ],
   "source": [
    "#количество сделок и источник лида \n",
    "df_Source_count = df_man_36_45_age.groupby('Source').count()['ID']\n",
    "ax = df_Source_count.plot(kind='bar',rot=0, figsize=(10,5))\n",
    "ax.set_title('Какйо источник лида использовался чаще всего')\n",
    "ax.set_xlabel('источниек лида')\n",
    "ax.set_ylabel('Количество')\n",
    "# Мы видим, что источник лида Website встречается больше всего\n",
    "Source = df_Source_count.idxmax()\n",
    "Source #Источник лида"
   ]
  },
  {
   "cell_type": "code",
   "execution_count": 415,
   "metadata": {},
   "outputs": [
    {
     "name": "stdout",
     "output_type": "stream",
     "text": [
      "Типичный портрет целевого клиента риэлторской компании:\n",
      "Пол - M\n",
      "Возраст - 41.0\n",
      "Тип квартиры - Apartment\n",
      "Площадь - 74.16263877120001 кв.м.\n",
      "Средний чек - 238811.06 $\n",
      "Цель покупки - Home\n",
      "Источник лида - Website\n"
     ]
    }
   ],
   "source": [
    "print('Типичный портрет целевого клиента риэлторской компании:')\n",
    "print('Пол - {0}\\nВозраст - {1}\\nТип квартиры - {2}\\nПлощадь - {3} кв.м.\\nСредний чек - {4} $\\nЦель покупки - {5}\\nИсточник лида - {6}'.format(gender, median_age, Type_of_property, Area_kvm, Price, Purpose, Source))"
   ]
  },
  {
   "cell_type": "code",
   "execution_count": 416,
   "metadata": {},
   "outputs": [
    {
     "data": {
      "text/plain": [
       "\"\\ndf_Customer_Price = df.groupby('Customer')[['Price_formating']].sum().sort_values(by = 'Price_formating',ascending=False)\\ndf_Customer_count = df.groupby('Customer')[['ID']].count().sort_values(by = 'ID',ascending=False)\\ndf_Customer = df_Customer_Price.join(df_Customer_count)\\ndf_Customer.columns=['Price','Count_v']\\ndf_Customer = df_Customer.apply(lambda x: 100*x/df_Customer.sum(), axis = 1)\\ndf_Customer.head()\\n\\n\\ntrace0 = go.Bar(\\n    x=df_Customer.index,\\n    y=df_Customer.Price,\\n    name='Price',\\n    orientation = 'v'\\n)\\n\\ntrace1 = go.Bar(\\n    x=df_Customer.index,\\n    y=df_Customer.Count_v,\\n    name='Count',\\n    orientation = 'v'\\n)\\n\\ndata = [trace0, trace1]\\nlayout = {'title': 'Platforms share'}\\n\\nfig = go.Figure(data=data, layout=layout)\\n\\niplot(fig, show_link=False)\\n\""
      ]
     },
     "execution_count": 416,
     "metadata": {},
     "output_type": "execute_result"
    }
   ],
   "source": [
    "\n",
    "pass\n",
    "#df_Customer_Price = df[['Customer','Price_formating']].groupby('Customer').sum().sort_values(by='Price_formating', ascending=False)[:20] # Выведем первые 20 значений\n",
    "#Видим, что первые три покупателя потратили много денег\n",
    "#ax = df_Customer_Price.plot(kind = 'bar', figsize=(10,5)); # диаграмма покупателей и стоимости сделки. Здесь посмотрим какой клиент сколько потратил денег на недвижимость и выведим только 20 клиентов, которые потратили больше всего\n",
    "#ax.set_title('диаграмма клиентов и стоимости совершенных сделки.')\n",
    "#ax.set_xlabel('Customer')\n",
    "#ax.set_ylabel('Price, $')\n",
    "\n",
    "#Посмотрим сколько сделок совершил каждый клиент и выведем первые 20 максимальных значений\n",
    "#df_Customer_count = df[['Customer','ID']].groupby('Customer').count().sort_values(by = 'ID',ascending=False)[:20]\n",
    "#ax = df_Customer_count.plot(kind='bar', figsize=(10,5))\n",
    "#ax.set_title('диаграмма клиентов и количество совершенных сделок.')\n",
    "#ax.set_xlabel('Customer')\n",
    "#ax.set_ylabel('Count')\n",
    "\"\"\"\n",
    "df_Customer_Price = df.groupby('Customer')[['Price_formating']].sum().sort_values(by = 'Price_formating',ascending=False)\n",
    "df_Customer_count = df.groupby('Customer')[['ID']].count().sort_values(by = 'ID',ascending=False)\n",
    "df_Customer = df_Customer_Price.join(df_Customer_count)\n",
    "df_Customer.columns=['Price','Count_v']\n",
    "df_Customer = df_Customer.apply(lambda x: 100*x/df_Customer.sum(), axis = 1)\n",
    "df_Customer.head()\n",
    "\n",
    "\n",
    "trace0 = go.Bar(\n",
    "    x=df_Customer.index,\n",
    "    y=df_Customer.Price,\n",
    "    name='Price',\n",
    "    orientation = 'v'\n",
    ")\n",
    "\n",
    "trace1 = go.Bar(\n",
    "    x=df_Customer.index,\n",
    "    y=df_Customer.Count_v,\n",
    "    name='Count',\n",
    "    orientation = 'v'\n",
    ")\n",
    "\n",
    "data = [trace0, trace1]\n",
    "layout = {'title': 'Platforms share'}\n",
    "\n",
    "fig = go.Figure(data=data, layout=layout)\n",
    "\n",
    "iplot(fig, show_link=False)\n",
    "\"\"\"\n"
   ]
  }
 ],
 "metadata": {
  "kernelspec": {
   "display_name": "Python 3.10.4 ('pythonProject')",
   "language": "python",
   "name": "python3"
  },
  "language_info": {
   "codemirror_mode": {
    "name": "ipython",
    "version": 3
   },
   "file_extension": ".py",
   "mimetype": "text/x-python",
   "name": "python",
   "nbconvert_exporter": "python",
   "pygments_lexer": "ipython3",
   "version": "3.10.4"
  },
  "vscode": {
   "interpreter": {
    "hash": "a04b0e96a39001dcde3ef110d9aab7edc50a87692e5c15032a80ed4296751e1d"
   }
  }
 },
 "nbformat": 4,
 "nbformat_minor": 0
}
